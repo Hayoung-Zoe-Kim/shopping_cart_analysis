{
 "cells": [
  {
   "cell_type": "markdown",
   "id": "671cc954",
   "metadata": {},
   "source": [
    "# Shopping Cart analysis (Random Forest)\n",
    "## \"What factors decide which products to be purchased while others stay in the shopping cart forever?\"\n",
    "\n",
    "##### - about the data\n",
    "The data set used in below analysis is a part of shopping cart data sets of one fashion e-commerce platform. \n",
    "\n",
    "*data: 'shopping_cart.csv' \n",
    "- It contains the part of shopping carts data of three high-end fashion brands.\n",
    "- It has collected during 01/01/2022 ~ 07/31/2022\n",
    "\n",
    "##### - about the columns\n",
    "Description is centered on the columns that are mainly dealt with in the analysis.\n",
    "\n",
    "- Cart_date: the date that a customer added a product\n",
    "- Brand_no: three brands that are dealt with in this analysis - for convenience, I named them brand_1, 2, 3\n",
    "- Product_no: the unique number of the products\n",
    "- Purchase_date: the date that a customer bought a product, the column also contains 'not purchase'\n",
    "- Funnel: the sales/marketing funnels that customers went through right before adding products to cart."
   ]
  },
  {
   "cell_type": "code",
   "execution_count": 1,
   "id": "c2e98409",
   "metadata": {},
   "outputs": [],
   "source": [
    "import pandas as pd\n",
    "import numpy as np\n",
    "import matplotlib.pyplot as plt\n",
    "import seaborn as sns"
   ]
  },
  {
   "cell_type": "code",
   "execution_count": 2,
   "id": "943c8d78",
   "metadata": {
    "scrolled": true
   },
   "outputs": [],
   "source": [
    "data = pd.read_csv('shopping_cart.csv')"
   ]
  },
  {
   "cell_type": "code",
   "execution_count": 3,
   "id": "8bc93160",
   "metadata": {
    "scrolled": false
   },
   "outputs": [
    {
     "data": {
      "text/html": [
       "<div>\n",
       "<style scoped>\n",
       "    .dataframe tbody tr th:only-of-type {\n",
       "        vertical-align: middle;\n",
       "    }\n",
       "\n",
       "    .dataframe tbody tr th {\n",
       "        vertical-align: top;\n",
       "    }\n",
       "\n",
       "    .dataframe thead th {\n",
       "        text-align: right;\n",
       "    }\n",
       "</style>\n",
       "<table border=\"1\" class=\"dataframe\">\n",
       "  <thead>\n",
       "    <tr style=\"text-align: right;\">\n",
       "      <th></th>\n",
       "      <th>Shopping_cart_no</th>\n",
       "      <th>Membership_no</th>\n",
       "      <th>Cart_date</th>\n",
       "      <th>Brand_no</th>\n",
       "      <th>Product_sku_no</th>\n",
       "      <th>Product_no</th>\n",
       "      <th>Purchase_date</th>\n",
       "      <th>Order_no</th>\n",
       "      <th>Cart_amount</th>\n",
       "      <th>Purchase_amount</th>\n",
       "      <th>Order_payment_amount</th>\n",
       "      <th>Final_payment_amount</th>\n",
       "      <th>Funnel</th>\n",
       "      <th>Item</th>\n",
       "      <th>Full_Price (10k / KRW)</th>\n",
       "      <th>Discount_percent</th>\n",
       "      <th>Discounted_Price</th>\n",
       "      <th>Coupon_Y/N</th>\n",
       "    </tr>\n",
       "  </thead>\n",
       "  <tbody>\n",
       "    <tr>\n",
       "      <th>0</th>\n",
       "      <td>220100049313001</td>\n",
       "      <td>1.000001e+09</td>\n",
       "      <td>20220116</td>\n",
       "      <td>58</td>\n",
       "      <td>5811327538000TU</td>\n",
       "      <td>5811327538</td>\n",
       "      <td>20220116</td>\n",
       "      <td>202201165811267</td>\n",
       "      <td>1</td>\n",
       "      <td>Refund</td>\n",
       "      <td>Refund</td>\n",
       "      <td>Refund</td>\n",
       "      <td>category</td>\n",
       "      <td>BAG</td>\n",
       "      <td>133</td>\n",
       "      <td>0.30</td>\n",
       "      <td>93</td>\n",
       "      <td>N</td>\n",
       "    </tr>\n",
       "    <tr>\n",
       "      <th>1</th>\n",
       "      <td>220700058680669</td>\n",
       "      <td>2.020080e+14</td>\n",
       "      <td>20220726</td>\n",
       "      <td>58</td>\n",
       "      <td>5811327538000TU</td>\n",
       "      <td>5811327538</td>\n",
       "      <td>20220726</td>\n",
       "      <td>202207267414661</td>\n",
       "      <td>1</td>\n",
       "      <td>1</td>\n",
       "      <td>850,000</td>\n",
       "      <td>850,000</td>\n",
       "      <td>NaN</td>\n",
       "      <td>BAG</td>\n",
       "      <td>133</td>\n",
       "      <td>0.36</td>\n",
       "      <td>85</td>\n",
       "      <td>N</td>\n",
       "    </tr>\n",
       "    <tr>\n",
       "      <th>2</th>\n",
       "      <td>220400053262376</td>\n",
       "      <td>2.020070e+14</td>\n",
       "      <td>20220407</td>\n",
       "      <td>58</td>\n",
       "      <td>5812127535000TU</td>\n",
       "      <td>5812127535</td>\n",
       "      <td>20220407</td>\n",
       "      <td>202204076448145</td>\n",
       "      <td>1</td>\n",
       "      <td>Refund</td>\n",
       "      <td>Refund</td>\n",
       "      <td>Refund</td>\n",
       "      <td>event</td>\n",
       "      <td>BAG</td>\n",
       "      <td>137</td>\n",
       "      <td>0.46</td>\n",
       "      <td>74</td>\n",
       "      <td>N</td>\n",
       "    </tr>\n",
       "    <tr>\n",
       "      <th>3</th>\n",
       "      <td>220700058706216</td>\n",
       "      <td>2.021123e+14</td>\n",
       "      <td>20220726</td>\n",
       "      <td>58</td>\n",
       "      <td>5811327538000TU</td>\n",
       "      <td>5811327538</td>\n",
       "      <td>20220726</td>\n",
       "      <td>202207267421129</td>\n",
       "      <td>1</td>\n",
       "      <td>Refund</td>\n",
       "      <td>Refund</td>\n",
       "      <td>Refund</td>\n",
       "      <td>NaN</td>\n",
       "      <td>BAG</td>\n",
       "      <td>133</td>\n",
       "      <td>0.53</td>\n",
       "      <td>63</td>\n",
       "      <td>N</td>\n",
       "    </tr>\n",
       "    <tr>\n",
       "      <th>4</th>\n",
       "      <td>220700058714676</td>\n",
       "      <td>2.022073e+14</td>\n",
       "      <td>20220726</td>\n",
       "      <td>58</td>\n",
       "      <td>5811327538000TU</td>\n",
       "      <td>5811327538</td>\n",
       "      <td>20220726</td>\n",
       "      <td>202207267422346</td>\n",
       "      <td>1</td>\n",
       "      <td>1</td>\n",
       "      <td>850,000</td>\n",
       "      <td>850,000</td>\n",
       "      <td>NaN</td>\n",
       "      <td>BAG</td>\n",
       "      <td>133</td>\n",
       "      <td>0.95</td>\n",
       "      <td>85</td>\n",
       "      <td>N</td>\n",
       "    </tr>\n",
       "  </tbody>\n",
       "</table>\n",
       "</div>"
      ],
      "text/plain": [
       "   Shopping_cart_no  Membership_no  Cart_date  Brand_no   Product_sku_no  \\\n",
       "0   220100049313001   1.000001e+09   20220116        58  5811327538000TU   \n",
       "1   220700058680669   2.020080e+14   20220726        58  5811327538000TU   \n",
       "2   220400053262376   2.020070e+14   20220407        58  5812127535000TU   \n",
       "3   220700058706216   2.021123e+14   20220726        58  5811327538000TU   \n",
       "4   220700058714676   2.022073e+14   20220726        58  5811327538000TU   \n",
       "\n",
       "   Product_no Purchase_date          Order_no  Cart_amount Purchase_amount  \\\n",
       "0  5811327538      20220116  202201165811267             1          Refund   \n",
       "1  5811327538      20220726  202207267414661             1               1   \n",
       "2  5812127535      20220407  202204076448145             1          Refund   \n",
       "3  5811327538      20220726  202207267421129             1          Refund   \n",
       "4  5811327538      20220726  202207267422346             1               1   \n",
       "\n",
       "  Order_payment_amount Final_payment_amount    Funnel Item  \\\n",
       "0               Refund               Refund  category  BAG   \n",
       "1              850,000              850,000       NaN  BAG   \n",
       "2               Refund               Refund     event  BAG   \n",
       "3               Refund               Refund       NaN  BAG   \n",
       "4              850,000              850,000       NaN  BAG   \n",
       "\n",
       "   Full_Price (10k / KRW)  Discount_percent  Discounted_Price Coupon_Y/N  \n",
       "0                     133              0.30                93          N  \n",
       "1                     133              0.36                85          N  \n",
       "2                     137              0.46                74          N  \n",
       "3                     133              0.53                63          N  \n",
       "4                     133              0.95                85          N  "
      ]
     },
     "execution_count": 3,
     "metadata": {},
     "output_type": "execute_result"
    }
   ],
   "source": [
    "data.head()"
   ]
  },
  {
   "cell_type": "code",
   "execution_count": 4,
   "id": "edb4b556",
   "metadata": {
    "scrolled": false
   },
   "outputs": [
    {
     "name": "stdout",
     "output_type": "stream",
     "text": [
      "<class 'pandas.core.frame.DataFrame'>\n",
      "RangeIndex: 75770 entries, 0 to 75769\n",
      "Data columns (total 18 columns):\n",
      " #   Column                  Non-Null Count  Dtype  \n",
      "---  ------                  --------------  -----  \n",
      " 0   Shopping_cart_no        75770 non-null  int64  \n",
      " 1   Membership_no           75768 non-null  float64\n",
      " 2   Cart_date               75770 non-null  int64  \n",
      " 3   Brand_no                75770 non-null  int64  \n",
      " 4   Product_sku_no          75770 non-null  object \n",
      " 5   Product_no              75770 non-null  object \n",
      " 6   Purchase_date           75770 non-null  object \n",
      " 7   Order_no                75770 non-null  object \n",
      " 8   Cart_amount             75770 non-null  int64  \n",
      " 9   Purchase_amount         75770 non-null  object \n",
      " 10  Order_payment_amount    75770 non-null  object \n",
      " 11  Final_payment_amount    75770 non-null  object \n",
      " 12  Funnel                  50039 non-null  object \n",
      " 13  Item                    75770 non-null  object \n",
      " 14  Full_Price (10k / KRW)  75770 non-null  int64  \n",
      " 15  Discount_percent        75770 non-null  float64\n",
      " 16  Discounted_Price        75770 non-null  int64  \n",
      " 17  Coupon_Y/N              75770 non-null  object \n",
      "dtypes: float64(2), int64(6), object(10)\n",
      "memory usage: 10.4+ MB\n"
     ]
    }
   ],
   "source": [
    "data.info()"
   ]
  },
  {
   "cell_type": "markdown",
   "id": "579eac8c",
   "metadata": {},
   "source": [
    "# Refine the data"
   ]
  },
  {
   "cell_type": "code",
   "execution_count": 4,
   "id": "d00fa477",
   "metadata": {},
   "outputs": [],
   "source": [
    "# Change the data type of column 'Cart_date' and 'Purchase_date'\n",
    "from datetime import datetime, timedelta"
   ]
  },
  {
   "cell_type": "code",
   "execution_count": 5,
   "id": "ed4cb13d",
   "metadata": {
    "scrolled": true
   },
   "outputs": [],
   "source": [
    "data['Cart_date'] = (data[data['Cart_date'] != 'not purchase']['Cart_date']).apply(lambda x: pd.to_datetime(str(x), format='%Y%m%d'))"
   ]
  },
  {
   "cell_type": "code",
   "execution_count": 6,
   "id": "70aab48e",
   "metadata": {},
   "outputs": [],
   "source": [
    "data['Purchase_date'] = (data[data['Purchase_date'] != 'not purchase']['Purchase_date']).apply(lambda x: pd.to_datetime(str(x),format='%Y%m%d'))"
   ]
  },
  {
   "cell_type": "code",
   "execution_count": 7,
   "id": "17b015b0",
   "metadata": {
    "scrolled": false
   },
   "outputs": [
    {
     "name": "stdout",
     "output_type": "stream",
     "text": [
      "<class 'pandas.core.frame.DataFrame'>\n",
      "RangeIndex: 75770 entries, 0 to 75769\n",
      "Data columns (total 18 columns):\n",
      " #   Column                  Non-Null Count  Dtype         \n",
      "---  ------                  --------------  -----         \n",
      " 0   Shopping_cart_no        75770 non-null  int64         \n",
      " 1   Membership_no           75768 non-null  float64       \n",
      " 2   Cart_date               75770 non-null  datetime64[ns]\n",
      " 3   Brand_no                75770 non-null  int64         \n",
      " 4   Product_sku_no          75770 non-null  object        \n",
      " 5   Product_no              75770 non-null  object        \n",
      " 6   Purchase_date           4108 non-null   datetime64[ns]\n",
      " 7   Order_no                75770 non-null  object        \n",
      " 8   Cart_amount             75770 non-null  int64         \n",
      " 9   Purchase_amount         75770 non-null  object        \n",
      " 10  Order_payment_amount    75770 non-null  object        \n",
      " 11  Final_payment_amount    75770 non-null  object        \n",
      " 12  Funnel                  50039 non-null  object        \n",
      " 13  Item                    75770 non-null  object        \n",
      " 14  Full_Price (10k / KRW)  75770 non-null  int64         \n",
      " 15  Discount_percent        75770 non-null  float64       \n",
      " 16  Discounted_Price        75770 non-null  int64         \n",
      " 17  Coupon_Y/N              75770 non-null  object        \n",
      "dtypes: datetime64[ns](2), float64(2), int64(5), object(9)\n",
      "memory usage: 10.4+ MB\n"
     ]
    }
   ],
   "source": [
    "data.info() "
   ]
  },
  {
   "cell_type": "code",
   "execution_count": 8,
   "id": "705a81ab",
   "metadata": {},
   "outputs": [
    {
     "data": {
      "text/plain": [
       "58    41499\n",
       "36    26715\n",
       "24     7556\n",
       "Name: Brand_no, dtype: int64"
      ]
     },
     "execution_count": 8,
     "metadata": {},
     "output_type": "execute_result"
    }
   ],
   "source": [
    "# convert the 'Brand_no' to 'brand 1,2....' for the sake of intuitive perception\n",
    "data['Brand_no'].value_counts()"
   ]
  },
  {
   "cell_type": "code",
   "execution_count": 9,
   "id": "e2517cf8",
   "metadata": {},
   "outputs": [
    {
     "name": "stderr",
     "output_type": "stream",
     "text": [
      "<ipython-input-9-679fc7b6cf88>:1: SettingWithCopyWarning: \n",
      "A value is trying to be set on a copy of a slice from a DataFrame\n",
      "\n",
      "See the caveats in the documentation: https://pandas.pydata.org/pandas-docs/stable/user_guide/indexing.html#returning-a-view-versus-a-copy\n",
      "  data['Brand_no'][data['Brand_no'] == 58] = data['Brand_no'][data['Brand_no'] == 58].apply(lambda x : 'brand_1')\n"
     ]
    }
   ],
   "source": [
    "data['Brand_no'][data['Brand_no'] == 58] = data['Brand_no'][data['Brand_no'] == 58].apply(lambda x : 'brand_1')\n",
    "data['Brand_no'][data['Brand_no'] == 36] = data['Brand_no'][data['Brand_no'] == 36].apply(lambda x : 'brand_2')\n",
    "data['Brand_no'][data['Brand_no'] == 24] = data['Brand_no'][data['Brand_no'] == 24].apply(lambda x : 'brand_3')"
   ]
  },
  {
   "cell_type": "markdown",
   "id": "03934ffc",
   "metadata": {},
   "source": [
    "### Deal with missing values & Add a new column for the further analysis"
   ]
  },
  {
   "cell_type": "code",
   "execution_count": 10,
   "id": "b601b517",
   "metadata": {
    "scrolled": true
   },
   "outputs": [
    {
     "data": {
      "text/plain": [
       "71662"
      ]
     },
     "execution_count": 10,
     "metadata": {},
     "output_type": "execute_result"
    }
   ],
   "source": [
    "sum(data['Purchase_date'].isna())"
   ]
  },
  {
   "cell_type": "code",
   "execution_count": 11,
   "id": "dc12aeb1",
   "metadata": {},
   "outputs": [],
   "source": [
    "# fill the n/a of 'Purchase_date' with 'not purchase'\n",
    "data['Purchase_date']= data['Purchase_date'].fillna('not purchase')"
   ]
  },
  {
   "cell_type": "code",
   "execution_count": 12,
   "id": "a7f45dcf",
   "metadata": {},
   "outputs": [],
   "source": [
    "# fill the n/a of 'Funnel' with 'failed to track'\n",
    "data['Funnel'] = data['Funnel'].fillna('failed to track')"
   ]
  },
  {
   "cell_type": "code",
   "execution_count": 13,
   "id": "22aa4785",
   "metadata": {
    "scrolled": false
   },
   "outputs": [
    {
     "name": "stdout",
     "output_type": "stream",
     "text": [
      "<class 'pandas.core.frame.DataFrame'>\n",
      "RangeIndex: 75770 entries, 0 to 75769\n",
      "Data columns (total 18 columns):\n",
      " #   Column                  Non-Null Count  Dtype         \n",
      "---  ------                  --------------  -----         \n",
      " 0   Shopping_cart_no        75770 non-null  int64         \n",
      " 1   Membership_no           75768 non-null  float64       \n",
      " 2   Cart_date               75770 non-null  datetime64[ns]\n",
      " 3   Brand_no                75770 non-null  object        \n",
      " 4   Product_sku_no          75770 non-null  object        \n",
      " 5   Product_no              75770 non-null  object        \n",
      " 6   Purchase_date           75770 non-null  object        \n",
      " 7   Order_no                75770 non-null  object        \n",
      " 8   Cart_amount             75770 non-null  int64         \n",
      " 9   Purchase_amount         75770 non-null  object        \n",
      " 10  Order_payment_amount    75770 non-null  object        \n",
      " 11  Final_payment_amount    75770 non-null  object        \n",
      " 12  Funnel                  75770 non-null  object        \n",
      " 13  Item                    75770 non-null  object        \n",
      " 14  Full_Price (10k / KRW)  75770 non-null  int64         \n",
      " 15  Discount_percent        75770 non-null  float64       \n",
      " 16  Discounted_Price        75770 non-null  int64         \n",
      " 17  Coupon_Y/N              75770 non-null  object        \n",
      "dtypes: datetime64[ns](1), float64(2), int64(4), object(11)\n",
      "memory usage: 10.4+ MB\n"
     ]
    }
   ],
   "source": [
    "data.info()  # checked that missing values of 'Purchase_date' and 'Funnel' are filled."
   ]
  },
  {
   "cell_type": "code",
   "execution_count": 14,
   "id": "0e626870",
   "metadata": {},
   "outputs": [],
   "source": [
    "# Create a new column that shows the day difference between the 'Cart_date' and 'Purchase_date'\n",
    "to_datetime = data['Purchase_date'] = (data[data['Purchase_date'] != 'not purchase']['Purchase_date'])\n",
    "to_datetime = to_datetime.apply(lambda x: pd.to_datetime(str(x),format='%Y-%m-%d %H:%M:%S'))"
   ]
  },
  {
   "cell_type": "code",
   "execution_count": 17,
   "id": "7060f1fc",
   "metadata": {
    "scrolled": true
   },
   "outputs": [],
   "source": [
    "data['day_diff'] = to_datetime - data['Cart_date']\n",
    "data['day_diff'] = data['day_diff'].fillna('not purchase')\n",
    "data['Purchase_date']= data['Purchase_date'].fillna('not purchase')"
   ]
  },
  {
   "cell_type": "code",
   "execution_count": 18,
   "id": "1c927381",
   "metadata": {
    "scrolled": false
   },
   "outputs": [
    {
     "name": "stdout",
     "output_type": "stream",
     "text": [
      "<class 'pandas.core.frame.DataFrame'>\n",
      "RangeIndex: 75770 entries, 0 to 75769\n",
      "Data columns (total 19 columns):\n",
      " #   Column                  Non-Null Count  Dtype         \n",
      "---  ------                  --------------  -----         \n",
      " 0   Shopping_cart_no        75770 non-null  int64         \n",
      " 1   Membership_no           75768 non-null  float64       \n",
      " 2   Cart_date               75770 non-null  datetime64[ns]\n",
      " 3   Brand_no                75770 non-null  object        \n",
      " 4   Product_sku_no          75770 non-null  object        \n",
      " 5   Product_no              75770 non-null  object        \n",
      " 6   Purchase_date           75770 non-null  object        \n",
      " 7   Order_no                75770 non-null  object        \n",
      " 8   Cart_amount             75770 non-null  int64         \n",
      " 9   Purchase_amount         75770 non-null  object        \n",
      " 10  Order_payment_amount    75770 non-null  object        \n",
      " 11  Final_payment_amount    75770 non-null  object        \n",
      " 12  Funnel                  75770 non-null  object        \n",
      " 13  Item                    75770 non-null  object        \n",
      " 14  Full_Price (10k / KRW)  75770 non-null  int64         \n",
      " 15  Discount_percent        75770 non-null  float64       \n",
      " 16  Discounted_Price        75770 non-null  int64         \n",
      " 17  Coupon_Y/N              75770 non-null  object        \n",
      " 18  day_diff                75770 non-null  object        \n",
      "dtypes: datetime64[ns](1), float64(2), int64(4), object(12)\n",
      "memory usage: 11.0+ MB\n"
     ]
    }
   ],
   "source": [
    "data.info()"
   ]
  },
  {
   "cell_type": "code",
   "execution_count": 19,
   "id": "d161fb85",
   "metadata": {},
   "outputs": [],
   "source": [
    "# Create a new column that indicates whether the products are purchased or not, for the sake of the modeling later.\n",
    "data['sold'] = data['Purchase_date'].copy()"
   ]
  },
  {
   "cell_type": "code",
   "execution_count": 20,
   "id": "1145fcc2",
   "metadata": {},
   "outputs": [],
   "source": [
    "def sold_or_not(x):\n",
    "    if x != 'not purchase':\n",
    "        return 1\n",
    "    else:\n",
    "        return 0"
   ]
  },
  {
   "cell_type": "code",
   "execution_count": 21,
   "id": "6f187d0b",
   "metadata": {},
   "outputs": [],
   "source": [
    "data['sold'] = data['sold'].apply(func=sold_or_not)"
   ]
  },
  {
   "cell_type": "code",
   "execution_count": 22,
   "id": "a9ccc193",
   "metadata": {
    "scrolled": false
   },
   "outputs": [
    {
     "data": {
      "text/plain": [
       "0    71662\n",
       "1     4108\n",
       "Name: sold, dtype: int64"
      ]
     },
     "execution_count": 22,
     "metadata": {},
     "output_type": "execute_result"
    }
   ],
   "source": [
    "data['sold'].value_counts()"
   ]
  },
  {
   "cell_type": "code",
   "execution_count": 23,
   "id": "7ca07994",
   "metadata": {},
   "outputs": [
    {
     "data": {
      "text/html": [
       "<div>\n",
       "<style scoped>\n",
       "    .dataframe tbody tr th:only-of-type {\n",
       "        vertical-align: middle;\n",
       "    }\n",
       "\n",
       "    .dataframe tbody tr th {\n",
       "        vertical-align: top;\n",
       "    }\n",
       "\n",
       "    .dataframe thead th {\n",
       "        text-align: right;\n",
       "    }\n",
       "</style>\n",
       "<table border=\"1\" class=\"dataframe\">\n",
       "  <thead>\n",
       "    <tr style=\"text-align: right;\">\n",
       "      <th></th>\n",
       "      <th>Shopping_cart_no</th>\n",
       "      <th>Membership_no</th>\n",
       "      <th>Cart_date</th>\n",
       "      <th>Brand_no</th>\n",
       "      <th>Product_sku_no</th>\n",
       "      <th>Product_no</th>\n",
       "      <th>Purchase_date</th>\n",
       "      <th>Order_no</th>\n",
       "      <th>Cart_amount</th>\n",
       "      <th>Purchase_amount</th>\n",
       "      <th>Order_payment_amount</th>\n",
       "      <th>Final_payment_amount</th>\n",
       "      <th>Funnel</th>\n",
       "      <th>Item</th>\n",
       "      <th>Full_Price (10k / KRW)</th>\n",
       "      <th>Discount_percent</th>\n",
       "      <th>Discounted_Price</th>\n",
       "      <th>Coupon_Y/N</th>\n",
       "      <th>day_diff</th>\n",
       "      <th>sold</th>\n",
       "    </tr>\n",
       "  </thead>\n",
       "  <tbody>\n",
       "    <tr>\n",
       "      <th>0</th>\n",
       "      <td>220100049313001</td>\n",
       "      <td>1.000001e+09</td>\n",
       "      <td>2022-01-16</td>\n",
       "      <td>brand_1</td>\n",
       "      <td>5811327538000TU</td>\n",
       "      <td>5811327538</td>\n",
       "      <td>2022-01-16 00:00:00</td>\n",
       "      <td>202201165811267</td>\n",
       "      <td>1</td>\n",
       "      <td>Refund</td>\n",
       "      <td>Refund</td>\n",
       "      <td>Refund</td>\n",
       "      <td>category</td>\n",
       "      <td>BAG</td>\n",
       "      <td>133</td>\n",
       "      <td>0.30</td>\n",
       "      <td>93</td>\n",
       "      <td>N</td>\n",
       "      <td>0 days 00:00:00</td>\n",
       "      <td>1</td>\n",
       "    </tr>\n",
       "    <tr>\n",
       "      <th>1</th>\n",
       "      <td>220700058680669</td>\n",
       "      <td>2.020080e+14</td>\n",
       "      <td>2022-07-26</td>\n",
       "      <td>brand_1</td>\n",
       "      <td>5811327538000TU</td>\n",
       "      <td>5811327538</td>\n",
       "      <td>2022-07-26 00:00:00</td>\n",
       "      <td>202207267414661</td>\n",
       "      <td>1</td>\n",
       "      <td>1</td>\n",
       "      <td>850,000</td>\n",
       "      <td>850,000</td>\n",
       "      <td>failed to track</td>\n",
       "      <td>BAG</td>\n",
       "      <td>133</td>\n",
       "      <td>0.36</td>\n",
       "      <td>85</td>\n",
       "      <td>N</td>\n",
       "      <td>0 days 00:00:00</td>\n",
       "      <td>1</td>\n",
       "    </tr>\n",
       "    <tr>\n",
       "      <th>2</th>\n",
       "      <td>220400053262376</td>\n",
       "      <td>2.020070e+14</td>\n",
       "      <td>2022-04-07</td>\n",
       "      <td>brand_1</td>\n",
       "      <td>5812127535000TU</td>\n",
       "      <td>5812127535</td>\n",
       "      <td>2022-04-07 00:00:00</td>\n",
       "      <td>202204076448145</td>\n",
       "      <td>1</td>\n",
       "      <td>Refund</td>\n",
       "      <td>Refund</td>\n",
       "      <td>Refund</td>\n",
       "      <td>event</td>\n",
       "      <td>BAG</td>\n",
       "      <td>137</td>\n",
       "      <td>0.46</td>\n",
       "      <td>74</td>\n",
       "      <td>N</td>\n",
       "      <td>0 days 00:00:00</td>\n",
       "      <td>1</td>\n",
       "    </tr>\n",
       "    <tr>\n",
       "      <th>3</th>\n",
       "      <td>220700058706216</td>\n",
       "      <td>2.021123e+14</td>\n",
       "      <td>2022-07-26</td>\n",
       "      <td>brand_1</td>\n",
       "      <td>5811327538000TU</td>\n",
       "      <td>5811327538</td>\n",
       "      <td>2022-07-26 00:00:00</td>\n",
       "      <td>202207267421129</td>\n",
       "      <td>1</td>\n",
       "      <td>Refund</td>\n",
       "      <td>Refund</td>\n",
       "      <td>Refund</td>\n",
       "      <td>failed to track</td>\n",
       "      <td>BAG</td>\n",
       "      <td>133</td>\n",
       "      <td>0.53</td>\n",
       "      <td>63</td>\n",
       "      <td>N</td>\n",
       "      <td>0 days 00:00:00</td>\n",
       "      <td>1</td>\n",
       "    </tr>\n",
       "    <tr>\n",
       "      <th>4</th>\n",
       "      <td>220700058714676</td>\n",
       "      <td>2.022073e+14</td>\n",
       "      <td>2022-07-26</td>\n",
       "      <td>brand_1</td>\n",
       "      <td>5811327538000TU</td>\n",
       "      <td>5811327538</td>\n",
       "      <td>2022-07-26 00:00:00</td>\n",
       "      <td>202207267422346</td>\n",
       "      <td>1</td>\n",
       "      <td>1</td>\n",
       "      <td>850,000</td>\n",
       "      <td>850,000</td>\n",
       "      <td>failed to track</td>\n",
       "      <td>BAG</td>\n",
       "      <td>133</td>\n",
       "      <td>0.95</td>\n",
       "      <td>85</td>\n",
       "      <td>N</td>\n",
       "      <td>0 days 00:00:00</td>\n",
       "      <td>1</td>\n",
       "    </tr>\n",
       "  </tbody>\n",
       "</table>\n",
       "</div>"
      ],
      "text/plain": [
       "   Shopping_cart_no  Membership_no  Cart_date Brand_no   Product_sku_no  \\\n",
       "0   220100049313001   1.000001e+09 2022-01-16  brand_1  5811327538000TU   \n",
       "1   220700058680669   2.020080e+14 2022-07-26  brand_1  5811327538000TU   \n",
       "2   220400053262376   2.020070e+14 2022-04-07  brand_1  5812127535000TU   \n",
       "3   220700058706216   2.021123e+14 2022-07-26  brand_1  5811327538000TU   \n",
       "4   220700058714676   2.022073e+14 2022-07-26  brand_1  5811327538000TU   \n",
       "\n",
       "   Product_no        Purchase_date          Order_no  Cart_amount  \\\n",
       "0  5811327538  2022-01-16 00:00:00  202201165811267             1   \n",
       "1  5811327538  2022-07-26 00:00:00  202207267414661             1   \n",
       "2  5812127535  2022-04-07 00:00:00  202204076448145             1   \n",
       "3  5811327538  2022-07-26 00:00:00  202207267421129             1   \n",
       "4  5811327538  2022-07-26 00:00:00  202207267422346             1   \n",
       "\n",
       "  Purchase_amount Order_payment_amount Final_payment_amount           Funnel  \\\n",
       "0          Refund               Refund               Refund         category   \n",
       "1               1              850,000              850,000  failed to track   \n",
       "2          Refund               Refund               Refund            event   \n",
       "3          Refund               Refund               Refund  failed to track   \n",
       "4               1              850,000              850,000  failed to track   \n",
       "\n",
       "  Item  Full_Price (10k / KRW)  Discount_percent  Discounted_Price Coupon_Y/N  \\\n",
       "0  BAG                     133              0.30                93          N   \n",
       "1  BAG                     133              0.36                85          N   \n",
       "2  BAG                     137              0.46                74          N   \n",
       "3  BAG                     133              0.53                63          N   \n",
       "4  BAG                     133              0.95                85          N   \n",
       "\n",
       "          day_diff  sold  \n",
       "0  0 days 00:00:00     1  \n",
       "1  0 days 00:00:00     1  \n",
       "2  0 days 00:00:00     1  \n",
       "3  0 days 00:00:00     1  \n",
       "4  0 days 00:00:00     1  "
      ]
     },
     "execution_count": 23,
     "metadata": {},
     "output_type": "execute_result"
    }
   ],
   "source": [
    "data.head() #checked that all is successfully applied"
   ]
  },
  {
   "cell_type": "markdown",
   "id": "842c0ac3",
   "metadata": {},
   "source": [
    "# Exploratory Data Analysis"
   ]
  },
  {
   "cell_type": "markdown",
   "id": "1696b06e",
   "metadata": {},
   "source": [
    "## 1. What's in the shopping carts?"
   ]
  },
  {
   "cell_type": "markdown",
   "id": "592c522a",
   "metadata": {},
   "source": [
    "## ① Items"
   ]
  },
  {
   "cell_type": "code",
   "execution_count": 24,
   "id": "5e7dd7e8",
   "metadata": {
    "scrolled": true
   },
   "outputs": [],
   "source": [
    "by_items = data.groupby('Item')"
   ]
  },
  {
   "cell_type": "code",
   "execution_count": 25,
   "id": "8b39952b",
   "metadata": {},
   "outputs": [
    {
     "data": {
      "text/plain": [
       "Item\n",
       "ACC         586\n",
       "BAG       40165\n",
       "BOTTOM     6870\n",
       "DRESS      3534\n",
       "JEW         592\n",
       "OUTER      1407\n",
       "SHOES      5130\n",
       "SLG        4269\n",
       "TOP       13217\n",
       "Name: Cart_amount, dtype: int64"
      ]
     },
     "execution_count": 25,
     "metadata": {},
     "output_type": "execute_result"
    }
   ],
   "source": [
    "# count by items\n",
    "by_items['Cart_amount'].count()"
   ]
  },
  {
   "cell_type": "code",
   "execution_count": 26,
   "id": "7b12f708",
   "metadata": {
    "scrolled": false
   },
   "outputs": [
    {
     "data": {
      "text/plain": [
       "Text(0.5, 1.0, 'The amount of items that are added to the shopping carts')"
      ]
     },
     "execution_count": 26,
     "metadata": {},
     "output_type": "execute_result"
    },
    {
     "data": {
      "image/png": "[encoded data removed]",
      "text/plain": [
       "<Figure size 720x360 with 1 Axes>"
      ]
     },
     "metadata": {
      "needs_background": "light"
     },
     "output_type": "display_data"
    }
   ],
   "source": [
    "plt.figure(figsize = (10, 5))\n",
    "sns.countplot(x = 'Item', data = data)\n",
    "\n",
    "plt.ylabel('The amounts of items')\n",
    "plt.title('The amount of items that are added to the shopping carts')"
   ]
  },
  {
   "cell_type": "markdown",
   "id": "e98d1b66",
   "metadata": {},
   "source": [
    "## ② brands"
   ]
  },
  {
   "cell_type": "code",
   "execution_count": 27,
   "id": "4045034a",
   "metadata": {},
   "outputs": [],
   "source": [
    "by_brands = data.groupby('Brand_no')"
   ]
  },
  {
   "cell_type": "code",
   "execution_count": 28,
   "id": "4a417889",
   "metadata": {
    "scrolled": true
   },
   "outputs": [
    {
     "data": {
      "text/plain": [
       "Brand_no\n",
       "brand_1    41499\n",
       "brand_2    26715\n",
       "brand_3     7556\n",
       "Name: Cart_amount, dtype: int64"
      ]
     },
     "execution_count": 28,
     "metadata": {},
     "output_type": "execute_result"
    }
   ],
   "source": [
    "# count by brands\n",
    "by_brands['Cart_amount'].count()"
   ]
  },
  {
   "cell_type": "code",
   "execution_count": 29,
   "id": "32bd57bb",
   "metadata": {},
   "outputs": [
    {
     "data": {
      "text/plain": [
       "Text(0.5, 1.0, 'The Counts by brands that are added to the shopping carts')"
      ]
     },
     "execution_count": 29,
     "metadata": {},
     "output_type": "execute_result"
    },
    {
     "data": {
      "image/png": "[encoded data removed]",
      "text/plain": [
       "<Figure size 720x360 with 1 Axes>"
      ]
     },
     "metadata": {
      "needs_background": "light"
     },
     "output_type": "display_data"
    }
   ],
   "source": [
    "plt.figure(figsize = (10, 5))\n",
    "sns.countplot(x = 'Brand_no', data = data)\n",
    "\n",
    "plt.ylabel('The amounts of products')\n",
    "plt.title('The Counts by brands that are added to the shopping carts')"
   ]
  },
  {
   "cell_type": "markdown",
   "id": "545241d4",
   "metadata": {},
   "source": [
    "## ③ Products"
   ]
  },
  {
   "cell_type": "code",
   "execution_count": 30,
   "id": "8cc24447",
   "metadata": {},
   "outputs": [],
   "source": [
    "by_products = data.groupby('Product_no')"
   ]
  },
  {
   "cell_type": "code",
   "execution_count": 31,
   "id": "a89b02c0",
   "metadata": {},
   "outputs": [],
   "source": [
    "# count by brands\n",
    "by_products_sorted = by_products['Product_no'].count().sort_values(ascending = False)\n",
    "top10_products = by_products_sorted.head(10)"
   ]
  },
  {
   "cell_type": "code",
   "execution_count": 32,
   "id": "dccf280b",
   "metadata": {
    "scrolled": true
   },
   "outputs": [
    {
     "data": {
      "text/plain": [
       "Product_no\n",
       "5811327539    2427\n",
       "5811327538    2228\n",
       "5811327543    2205\n",
       "5811327544    2003\n",
       "5811327541    1487\n",
       "5811327742    1046\n",
       "5812127502    1043\n",
       "5812327547     972\n",
       "5812127541     942\n",
       "5811327501     627\n",
       "Name: Product_no, dtype: int64"
      ]
     },
     "execution_count": 32,
     "metadata": {},
     "output_type": "execute_result"
    }
   ],
   "source": [
    "top10_products"
   ]
  },
  {
   "cell_type": "code",
   "execution_count": 33,
   "id": "5642da4e",
   "metadata": {},
   "outputs": [
    {
     "data": {
      "text/plain": [
       "Text(0.5, 1.0, 'The amount of top 10 products that are added to shopping cart')"
      ]
     },
     "execution_count": 33,
     "metadata": {},
     "output_type": "execute_result"
    },
    {
     "data": {
      "image/png": "[encoded data removed]",
      "text/plain": [
       "<Figure size 720x360 with 1 Axes>"
      ]
     },
     "metadata": {
      "needs_background": "light"
     },
     "output_type": "display_data"
    }
   ],
   "source": [
    "plt.figure(figsize = (10, 5))\n",
    "top10_products.plot(kind = 'bar')\n",
    "\n",
    "plt.ylabel('The amount of products')\n",
    "plt.title('The amount of top 10 products that are added to shopping cart')"
   ]
  },
  {
   "cell_type": "markdown",
   "id": "035c2641",
   "metadata": {},
   "source": [
    "## ④ Price"
   ]
  },
  {
   "cell_type": "markdown",
   "id": "ac2fcfd9",
   "metadata": {},
   "source": [
    "### Full Price range of products in the cart"
   ]
  },
  {
   "cell_type": "code",
   "execution_count": 34,
   "id": "4fbe0c4d",
   "metadata": {
    "scrolled": false
   },
   "outputs": [
    {
     "name": "stderr",
     "output_type": "stream",
     "text": [
      "/Users/hayoung/opt/anaconda3/lib/python3.8/site-packages/seaborn/distributions.py:2557: FutureWarning: `distplot` is a deprecated function and will be removed in a future version. Please adapt your code to use either `displot` (a figure-level function with similar flexibility) or `histplot` (an axes-level function for histograms).\n",
      "  warnings.warn(msg, FutureWarning)\n"
     ]
    },
    {
     "data": {
      "text/plain": [
       "Text(0.5, 1.0, 'The Full Price range of products in the cart')"
      ]
     },
     "execution_count": 34,
     "metadata": {},
     "output_type": "execute_result"
    },
    {
     "data": {
      "image/png": "[encoded data removed]",
      "text/plain": [
       "<Figure size 720x360 with 1 Axes>"
      ]
     },
     "metadata": {
      "needs_background": "light"
     },
     "output_type": "display_data"
    }
   ],
   "source": [
    "plt.figure(figsize = (10, 5))\n",
    "sns.distplot(data['Full_Price (10k / KRW)'])\n",
    "\n",
    "plt.title('The Full Price range of products in the cart')"
   ]
  },
  {
   "cell_type": "markdown",
   "id": "44708e59",
   "metadata": {},
   "source": [
    "### Min, max, average of full price\n",
    "### - It ranges from 60k (KRW) to 7990k (KRW), with average 1210k (KRW)\n"
   ]
  },
  {
   "cell_type": "code",
   "execution_count": 35,
   "id": "1791a482",
   "metadata": {
    "scrolled": false
   },
   "outputs": [
    {
     "data": {
      "text/plain": [
       "count    75770.000000\n",
       "mean       121.373578\n",
       "std         69.785708\n",
       "min          6.000000\n",
       "25%         75.000000\n",
       "50%        109.000000\n",
       "75%        143.000000\n",
       "max        799.000000\n",
       "Name: Full_Price (10k / KRW), dtype: float64"
      ]
     },
     "execution_count": 35,
     "metadata": {},
     "output_type": "execute_result"
    }
   ],
   "source": [
    "data['Full_Price (10k / KRW)'].describe()"
   ]
  },
  {
   "cell_type": "markdown",
   "id": "e225b222",
   "metadata": {},
   "source": [
    "\n",
    "## 2. Through which funnels customers landed to add products in shopping cart?"
   ]
  },
  {
   "cell_type": "code",
   "execution_count": 36,
   "id": "b1653f26",
   "metadata": {},
   "outputs": [
    {
     "data": {
      "text/plain": [
       "failed to track    25731\n",
       "category           23214\n",
       "event              13876\n",
       "Search              9613\n",
       "site_main           1982\n",
       "etc                 1163\n",
       "live_shopping        191\n",
       "Name: Funnel, dtype: int64"
      ]
     },
     "execution_count": 36,
     "metadata": {},
     "output_type": "execute_result"
    }
   ],
   "source": [
    "data['Funnel'].value_counts()"
   ]
  },
  {
   "cell_type": "code",
   "execution_count": 37,
   "id": "4ca4fb3c",
   "metadata": {
    "scrolled": false
   },
   "outputs": [
    {
     "data": {
      "text/plain": [
       "Text(0.5, 1.0, 'Sales/marketing funnels that customers went through right before the shopping cart')"
      ]
     },
     "execution_count": 37,
     "metadata": {},
     "output_type": "execute_result"
    },
    {
     "data": {
      "image/png": "[encoded data removed]",
      "text/plain": [
       "<Figure size 720x360 with 1 Axes>"
      ]
     },
     "metadata": {
      "needs_background": "light"
     },
     "output_type": "display_data"
    }
   ],
   "source": [
    "plt.figure(figsize = (10,5))\n",
    "\n",
    "sns.countplot(x = 'Funnel', data = data)\n",
    "\n",
    "plt.title('Sales/marketing funnels that customers went through right before the shopping cart')"
   ]
  },
  {
   "cell_type": "markdown",
   "id": "dd06cfb1",
   "metadata": {},
   "source": [
    "# 3. The Conversion status by each factor : what are buying factors?"
   ]
  },
  {
   "cell_type": "markdown",
   "id": "3db28f16",
   "metadata": {},
   "source": [
    "## The overall conversion rate turns out to be 5.4%"
   ]
  },
  {
   "cell_type": "code",
   "execution_count": 38,
   "id": "a6188b82",
   "metadata": {
    "scrolled": false
   },
   "outputs": [
    {
     "data": {
      "text/plain": [
       "5.421670845981259"
      ]
     },
     "execution_count": 38,
     "metadata": {},
     "output_type": "execute_result"
    }
   ],
   "source": [
    "data['Purchase_date'][data['Purchase_date'] != 'not purchase'].count() / data['Cart_date'].count() * 100"
   ]
  },
  {
   "cell_type": "markdown",
   "id": "01a0cdee",
   "metadata": {},
   "source": [
    "## Conversion rate by relevant factors \n",
    "\n",
    "## ① Items\n",
    "### - Jewelry had the highest rate (over 12%) and the bag had the lowest (under 4%)"
   ]
  },
  {
   "cell_type": "code",
   "execution_count": 39,
   "id": "65185e9a",
   "metadata": {
    "scrolled": false
   },
   "outputs": [
    {
     "name": "stdout",
     "output_type": "stream",
     "text": [
      "<class 'pandas.core.frame.DataFrame'>\n",
      "RangeIndex: 75770 entries, 0 to 75769\n",
      "Data columns (total 2 columns):\n",
      " #   Column  Non-Null Count  Dtype \n",
      "---  ------  --------------  ----- \n",
      " 0   Item    75770 non-null  object\n",
      " 1   sold    75770 non-null  int64 \n",
      "dtypes: int64(1), object(1)\n",
      "memory usage: 1.2+ MB\n"
     ]
    }
   ],
   "source": [
    "#extract only relevant columns\n",
    "sold_by_items= data[['Item','sold']]\n",
    "sold_by_items.info()"
   ]
  },
  {
   "cell_type": "code",
   "execution_count": 40,
   "id": "7a8e6d85",
   "metadata": {
    "scrolled": true
   },
   "outputs": [],
   "source": [
    "# calculuate conversion rate by items\n",
    "conversion = sold_by_items.groupby('Item').sum()\n",
    "total = sold_by_items.groupby('Item').count()\n",
    "conversion_rate = conversion / total *100"
   ]
  },
  {
   "cell_type": "code",
   "execution_count": 41,
   "id": "795f3b8c",
   "metadata": {
    "scrolled": true
   },
   "outputs": [
    {
     "data": {
      "text/plain": [
       "<matplotlib.legend.Legend at 0x7ffbe05b4130>"
      ]
     },
     "execution_count": 41,
     "metadata": {},
     "output_type": "execute_result"
    },
    {
     "data": {
      "image/png": "[encoded data removed]",
      "text/plain": [
       "<Figure size 432x288 with 1 Axes>"
      ]
     },
     "metadata": {
      "needs_background": "light"
     },
     "output_type": "display_data"
    }
   ],
   "source": [
    "conversion_rate.plot(kind = 'line')\n",
    "plt.gcf().autofmt_xdate()\n",
    "\n",
    "plt.ylabel('conversion_rate(%)')\n",
    "plt.title('Conversion rate by items')\n",
    "plt.legend('conversion_rate(%)')\n",
    "plt.legend(bbox_to_anchor=(1.3, 1))"
   ]
  },
  {
   "cell_type": "markdown",
   "id": "aef7d6d8",
   "metadata": {},
   "source": [
    "## ② Brands\n",
    "### - brand_3 had the highest rate (over 7%), brand_2 the similarly high (beneath 7%), and brand_1 the lowest rate (around 4%)"
   ]
  },
  {
   "cell_type": "code",
   "execution_count": 42,
   "id": "39d2572d",
   "metadata": {},
   "outputs": [],
   "source": [
    "#extract only relevant columns\n",
    "sold_by_brands= data[['Brand_no','sold']]\n",
    "\n",
    "conversion_b = sold_by_brands.groupby('Brand_no').sum()\n",
    "total_b = sold_by_brands.groupby('Brand_no').count()\n",
    "conversion_rate_b = conversion_b / total_b *100"
   ]
  },
  {
   "cell_type": "code",
   "execution_count": 43,
   "id": "7f7a2cc6",
   "metadata": {},
   "outputs": [
    {
     "data": {
      "text/plain": [
       "<matplotlib.legend.Legend at 0x7ffbdba0b250>"
      ]
     },
     "execution_count": 43,
     "metadata": {},
     "output_type": "execute_result"
    },
    {
     "data": {
      "text/plain": [
       "<Figure size 720x360 with 0 Axes>"
      ]
     },
     "metadata": {},
     "output_type": "display_data"
    },
    {
     "data": {
      "image/png": "[encoded data removed]",
      "text/plain": [
       "<Figure size 432x288 with 1 Axes>"
      ]
     },
     "metadata": {
      "needs_background": "light"
     },
     "output_type": "display_data"
    }
   ],
   "source": [
    "plt.figure(figsize = (10, 5))\n",
    "conversion_rate_b.plot(kind = 'bar')\n",
    "\n",
    "plt.ylabel('conversion_rate')\n",
    "plt.title('Conversion rate by brands')\n",
    "plt.legend('conversion_rate(%)')\n",
    "plt.legend(bbox_to_anchor=(1.3, 1))"
   ]
  },
  {
   "cell_type": "markdown",
   "id": "b10b592d",
   "metadata": {},
   "source": [
    "## ③ Funnels\n",
    "### - 'Search' was the most effective channel when it comes to conversion, and 'event' was the second best (excluding 'failed to track'), where it seems that people 'search' products with some level of intention to purchase and that 'sales event' definitely has some effects to drive potential purchasing desire. "
   ]
  },
  {
   "cell_type": "code",
   "execution_count": 44,
   "id": "b0214bd6",
   "metadata": {},
   "outputs": [],
   "source": [
    "#extract only relevant columns\n",
    "sold_by_funnels= data[['Funnel','sold']]\n",
    "\n",
    "conversion_f = sold_by_funnels.groupby('Funnel').sum()\n",
    "total_f = sold_by_funnels.groupby('Funnel').count()\n",
    "conversion_rate_f = conversion_f / total_f *100"
   ]
  },
  {
   "cell_type": "code",
   "execution_count": 45,
   "id": "2cf42c9e",
   "metadata": {
    "scrolled": false
   },
   "outputs": [
    {
     "data": {
      "text/plain": [
       "<matplotlib.legend.Legend at 0x7ffbf8319ee0>"
      ]
     },
     "execution_count": 45,
     "metadata": {},
     "output_type": "execute_result"
    },
    {
     "data": {
      "text/plain": [
       "<Figure size 720x504 with 0 Axes>"
      ]
     },
     "metadata": {},
     "output_type": "display_data"
    },
    {
     "data": {
      "image/png": "[encoded data removed]",
      "text/plain": [
       "<Figure size 432x288 with 1 Axes>"
      ]
     },
     "metadata": {
      "needs_background": "light"
     },
     "output_type": "display_data"
    }
   ],
   "source": [
    "plt.figure(figsize = (10, 7))\n",
    "conversion_rate_f.plot(kind = 'line')\n",
    "plt.gcf().autofmt_xdate()\n",
    "\n",
    "plt.ylabel('conversion_rate_f')\n",
    "plt.title('Conversion rate by funnels')\n",
    "plt.legend('conversion_rate(%)')\n",
    "plt.legend(bbox_to_anchor=(1.3, 1))"
   ]
  },
  {
   "cell_type": "markdown",
   "id": "785c0156",
   "metadata": {},
   "source": [
    "## ④ Price and Promotion"
   ]
  },
  {
   "cell_type": "markdown",
   "id": "2b1c6a9c",
   "metadata": {},
   "source": [
    "## ● Full price range of purchased VS unpurchased products\n",
    "### - Full prices of purchased ones are distributed in a little bit lower price range compared to unpurchased ones."
   ]
  },
  {
   "cell_type": "code",
   "execution_count": 46,
   "id": "116f1c28",
   "metadata": {
    "scrolled": false
   },
   "outputs": [
    {
     "name": "stderr",
     "output_type": "stream",
     "text": [
      "/Users/hayoung/opt/anaconda3/lib/python3.8/site-packages/seaborn/distributions.py:2557: FutureWarning: `distplot` is a deprecated function and will be removed in a future version. Please adapt your code to use either `displot` (a figure-level function with similar flexibility) or `kdeplot` (an axes-level function for kernel density plots).\n",
      "  warnings.warn(msg, FutureWarning)\n",
      "/Users/hayoung/opt/anaconda3/lib/python3.8/site-packages/seaborn/distributions.py:2056: FutureWarning: The `axis` variable is no longer used and will be removed. Instead, assign variables directly to `x` or `y`.\n",
      "  warnings.warn(msg, FutureWarning)\n",
      "/Users/hayoung/opt/anaconda3/lib/python3.8/site-packages/seaborn/distributions.py:2557: FutureWarning: `distplot` is a deprecated function and will be removed in a future version. Please adapt your code to use either `displot` (a figure-level function with similar flexibility) or `kdeplot` (an axes-level function for kernel density plots).\n",
      "  warnings.warn(msg, FutureWarning)\n",
      "/Users/hayoung/opt/anaconda3/lib/python3.8/site-packages/seaborn/distributions.py:2056: FutureWarning: The `axis` variable is no longer used and will be removed. Instead, assign variables directly to `x` or `y`.\n",
      "  warnings.warn(msg, FutureWarning)\n"
     ]
    },
    {
     "data": {
      "text/plain": [
       "<matplotlib.legend.Legend at 0x7ffbf82fbc40>"
      ]
     },
     "execution_count": 46,
     "metadata": {},
     "output_type": "execute_result"
    },
    {
     "data": {
      "image/png": "[encoded data removed]",
      "text/plain": [
       "<Figure size 720x360 with 1 Axes>"
      ]
     },
     "metadata": {
      "needs_background": "light"
     },
     "output_type": "display_data"
    }
   ],
   "source": [
    "purchased_fullprice = data.loc[data['sold'] == 1]\n",
    "unpurchased_fullprice = data.loc[data['sold'] == 0]\n",
    "\n",
    "plt.figure(figsize = (10,5))\n",
    "sns.distplot(purchased_fullprice[['Full_Price (10k / KRW)']], hist=False, rug = True)\n",
    "sns.distplot(unpurchased_fullprice[['Full_Price (10k / KRW)']], hist=False, rug = True)\n",
    "\n",
    "plt.xlabel('Full_Price(10k/KRW)')\n",
    "plt.title('Full price range of sold products VS unsold products')\n",
    "plt.legend(labels = ['purchased','unpurchased'],loc = 'upper right')"
   ]
  },
  {
   "cell_type": "markdown",
   "id": "c21f4a9e",
   "metadata": {},
   "source": [
    "## ● Discount percentage distribution of purchased VS unpurchased products\n",
    "### -The range of discount percentage of purchased products lies between 0% to 97%, the average is around 45% and the mode is 40%.\n",
    "### -The range of discount percentage of unpurchased products lies between 0% to 80%, the average is around 31% and the mode is 0%.\n"
   ]
  },
  {
   "cell_type": "code",
   "execution_count": 47,
   "id": "d4ad2113",
   "metadata": {
    "scrolled": false
   },
   "outputs": [
    {
     "name": "stderr",
     "output_type": "stream",
     "text": [
      "/Users/hayoung/opt/anaconda3/lib/python3.8/site-packages/seaborn/distributions.py:2557: FutureWarning: `distplot` is a deprecated function and will be removed in a future version. Please adapt your code to use either `displot` (a figure-level function with similar flexibility) or `kdeplot` (an axes-level function for kernel density plots).\n",
      "  warnings.warn(msg, FutureWarning)\n",
      "/Users/hayoung/opt/anaconda3/lib/python3.8/site-packages/seaborn/distributions.py:2056: FutureWarning: The `axis` variable is no longer used and will be removed. Instead, assign variables directly to `x` or `y`.\n",
      "  warnings.warn(msg, FutureWarning)\n",
      "/Users/hayoung/opt/anaconda3/lib/python3.8/site-packages/seaborn/distributions.py:2557: FutureWarning: `distplot` is a deprecated function and will be removed in a future version. Please adapt your code to use either `displot` (a figure-level function with similar flexibility) or `kdeplot` (an axes-level function for kernel density plots).\n",
      "  warnings.warn(msg, FutureWarning)\n",
      "/Users/hayoung/opt/anaconda3/lib/python3.8/site-packages/seaborn/distributions.py:2056: FutureWarning: The `axis` variable is no longer used and will be removed. Instead, assign variables directly to `x` or `y`.\n",
      "  warnings.warn(msg, FutureWarning)\n"
     ]
    },
    {
     "data": {
      "text/plain": [
       "<matplotlib.legend.Legend at 0x7ffbe056b6d0>"
      ]
     },
     "execution_count": 47,
     "metadata": {},
     "output_type": "execute_result"
    },
    {
     "data": {
      "image/png": "[encoded data removed]",
      "text/plain": [
       "<Figure size 720x360 with 1 Axes>"
      ]
     },
     "metadata": {
      "needs_background": "light"
     },
     "output_type": "display_data"
    }
   ],
   "source": [
    "purchased_discountpercent = data.loc[data['sold'] == 1]\n",
    "unpurchased_discountpercent = data.loc[data['sold'] == 0]\n",
    "\n",
    "plt.figure(figsize = (10,5))\n",
    "sns.distplot(purchased_discountpercent[['Discount_percent']], hist=False, rug = True)\n",
    "sns.distplot(unpurchased_discountpercent[['Discount_percent']], hist=False, rug = True)\n",
    "\n",
    "plt.xlabel('Discount percentage')\n",
    "plt.title('Discount percentages of purchased VS unpurchased products')\n",
    "plt.legend(labels = ['purchased','unpurchased'],loc = 'upper right')"
   ]
  },
  {
   "cell_type": "code",
   "execution_count": 48,
   "id": "cff803bf",
   "metadata": {
    "scrolled": true
   },
   "outputs": [
    {
     "data": {
      "text/plain": [
       "count    4108.000000\n",
       "mean        0.451273\n",
       "std         0.233367\n",
       "min         0.000000\n",
       "25%         0.300000\n",
       "50%         0.460000\n",
       "75%         0.590000\n",
       "max         0.970000\n",
       "Name: Discount_percent, dtype: float64"
      ]
     },
     "execution_count": 48,
     "metadata": {},
     "output_type": "execute_result"
    }
   ],
   "source": [
    "purchased_discountpercent['Discount_percent'].describe()"
   ]
  },
  {
   "cell_type": "code",
   "execution_count": 49,
   "id": "e1f750a3",
   "metadata": {
    "scrolled": true
   },
   "outputs": [
    {
     "data": {
      "text/plain": [
       "0    0.4\n",
       "dtype: float64"
      ]
     },
     "execution_count": 49,
     "metadata": {},
     "output_type": "execute_result"
    }
   ],
   "source": [
    "purchased_discountpercent['Discount_percent'].mode()"
   ]
  },
  {
   "cell_type": "code",
   "execution_count": 50,
   "id": "b20ba581",
   "metadata": {},
   "outputs": [
    {
     "data": {
      "text/plain": [
       "count    71662.000000\n",
       "mean         0.303878\n",
       "std          0.222597\n",
       "min          0.000000\n",
       "25%          0.000000\n",
       "50%          0.300000\n",
       "75%          0.490000\n",
       "max          0.800000\n",
       "Name: Discount_percent, dtype: float64"
      ]
     },
     "execution_count": 50,
     "metadata": {},
     "output_type": "execute_result"
    }
   ],
   "source": [
    "unpurchased_discountpercent['Discount_percent'].describe()"
   ]
  },
  {
   "cell_type": "code",
   "execution_count": 51,
   "id": "49eb7659",
   "metadata": {},
   "outputs": [
    {
     "data": {
      "text/plain": [
       "0    0.0\n",
       "dtype: float64"
      ]
     },
     "execution_count": 51,
     "metadata": {},
     "output_type": "execute_result"
    }
   ],
   "source": [
    "unpurchased_discountpercent['Discount_percent'].mode()"
   ]
  },
  {
   "cell_type": "markdown",
   "id": "0474c4eb",
   "metadata": {},
   "source": [
    "## ● Discounted price distribution of purchased VS unpurchased products\n",
    "### -The range of discounted price of purchased products lies between 10k(KRW) to 4400k(KRW), the average is around 550k(KRW) and the mode is 930k(KRW)\n",
    "### -The range of discounted price of unpurchased products lies between 40k(KRW) to 8410k(KRW), the average is around 800k(KRW) and the mode is 930k(KRW)\n",
    "### - The gap between the purchased and unpurchased products is higher in discounted price distribution than in full price distribution."
   ]
  },
  {
   "cell_type": "code",
   "execution_count": 52,
   "id": "e7e3aa8a",
   "metadata": {
    "scrolled": false
   },
   "outputs": [
    {
     "name": "stderr",
     "output_type": "stream",
     "text": [
      "/Users/hayoung/opt/anaconda3/lib/python3.8/site-packages/seaborn/distributions.py:2557: FutureWarning: `distplot` is a deprecated function and will be removed in a future version. Please adapt your code to use either `displot` (a figure-level function with similar flexibility) or `kdeplot` (an axes-level function for kernel density plots).\n",
      "  warnings.warn(msg, FutureWarning)\n",
      "/Users/hayoung/opt/anaconda3/lib/python3.8/site-packages/seaborn/distributions.py:2056: FutureWarning: The `axis` variable is no longer used and will be removed. Instead, assign variables directly to `x` or `y`.\n",
      "  warnings.warn(msg, FutureWarning)\n",
      "/Users/hayoung/opt/anaconda3/lib/python3.8/site-packages/seaborn/distributions.py:2557: FutureWarning: `distplot` is a deprecated function and will be removed in a future version. Please adapt your code to use either `displot` (a figure-level function with similar flexibility) or `kdeplot` (an axes-level function for kernel density plots).\n",
      "  warnings.warn(msg, FutureWarning)\n",
      "/Users/hayoung/opt/anaconda3/lib/python3.8/site-packages/seaborn/distributions.py:2056: FutureWarning: The `axis` variable is no longer used and will be removed. Instead, assign variables directly to `x` or `y`.\n",
      "  warnings.warn(msg, FutureWarning)\n"
     ]
    },
    {
     "data": {
      "text/plain": [
       "<matplotlib.legend.Legend at 0x7ffba8183220>"
      ]
     },
     "execution_count": 52,
     "metadata": {},
     "output_type": "execute_result"
    },
    {
     "data": {
      "image/png": "[encoded data removed]",
      "text/plain": [
       "<Figure size 720x360 with 1 Axes>"
      ]
     },
     "metadata": {
      "needs_background": "light"
     },
     "output_type": "display_data"
    }
   ],
   "source": [
    "purchased_discountprice = data.loc[data['sold'] == 1]\n",
    "unpurchased_discountprice = data.loc[data['sold'] == 0]\n",
    "\n",
    "plt.figure(figsize = (10,5))\n",
    "sns.distplot(purchased_discountprice[['Discounted_Price']], hist=False, rug = True)\n",
    "sns.distplot(unpurchased_discountprice[['Discounted_Price']], hist=False, rug = True)\n",
    "\n",
    "plt.xlabel('Discounted price(10k/KRW)')\n",
    "plt.title('Discounted prices of purchased VS unpurchased products')\n",
    "plt.legend(labels = ['purchased','unpurchased'],loc = 'upper right')"
   ]
  },
  {
   "cell_type": "code",
   "execution_count": 53,
   "id": "40c6c2a8",
   "metadata": {
    "scrolled": false
   },
   "outputs": [
    {
     "data": {
      "text/plain": [
       "count    4108.000000\n",
       "mean       55.425268\n",
       "std        39.496866\n",
       "min         1.000000\n",
       "25%        25.000000\n",
       "50%        45.000000\n",
       "75%        80.000000\n",
       "max       440.000000\n",
       "Name: Discounted_Price, dtype: float64"
      ]
     },
     "execution_count": 53,
     "metadata": {},
     "output_type": "execute_result"
    }
   ],
   "source": [
    "purchased_discountprice['Discounted_Price'].describe()"
   ]
  },
  {
   "cell_type": "code",
   "execution_count": 54,
   "id": "65e56aeb",
   "metadata": {
    "scrolled": true
   },
   "outputs": [
    {
     "data": {
      "text/plain": [
       "0    93\n",
       "dtype: int64"
      ]
     },
     "execution_count": 54,
     "metadata": {},
     "output_type": "execute_result"
    }
   ],
   "source": [
    "purchased_discountprice['Discounted_Price'].mode()"
   ]
  },
  {
   "cell_type": "code",
   "execution_count": 55,
   "id": "3a165eca",
   "metadata": {},
   "outputs": [
    {
     "data": {
      "text/plain": [
       "count    71662.000000\n",
       "mean        80.448801\n",
       "std         43.223443\n",
       "min          4.000000\n",
       "25%         46.000000\n",
       "50%         79.000000\n",
       "75%         98.000000\n",
       "max        481.000000\n",
       "Name: Discounted_Price, dtype: float64"
      ]
     },
     "execution_count": 55,
     "metadata": {},
     "output_type": "execute_result"
    }
   ],
   "source": [
    "unpurchased_discountprice['Discounted_Price'].describe()"
   ]
  },
  {
   "cell_type": "code",
   "execution_count": 56,
   "id": "a4204139",
   "metadata": {
    "scrolled": true
   },
   "outputs": [
    {
     "data": {
      "text/plain": [
       "0    93\n",
       "dtype: int64"
      ]
     },
     "execution_count": 56,
     "metadata": {},
     "output_type": "execute_result"
    }
   ],
   "source": [
    "unpurchased_discountprice['Discounted_Price'].mode()"
   ]
  },
  {
   "cell_type": "markdown",
   "id": "aeef7979",
   "metadata": {},
   "source": [
    "## ⑤ Coupon usage : Yes or No\n",
    "### - Among the purchased orders, the number of 'coupon usage = Y' was higher than 'N'"
   ]
  },
  {
   "cell_type": "code",
   "execution_count": 57,
   "id": "4b029fd1",
   "metadata": {
    "scrolled": true
   },
   "outputs": [
    {
     "data": {
      "text/plain": [
       "not purchase    71662\n",
       "Y                1875\n",
       "N                1684\n",
       "Refund            549\n",
       "Name: Coupon_Y/N, dtype: int64"
      ]
     },
     "execution_count": 57,
     "metadata": {},
     "output_type": "execute_result"
    }
   ],
   "source": [
    "data['Coupon_Y/N'].value_counts()"
   ]
  },
  {
   "cell_type": "code",
   "execution_count": 58,
   "id": "9f3712c3",
   "metadata": {
    "scrolled": true
   },
   "outputs": [
    {
     "data": {
      "text/plain": [
       "<AxesSubplot:xlabel='Coupon_Y/N', ylabel='count'>"
      ]
     },
     "execution_count": 58,
     "metadata": {},
     "output_type": "execute_result"
    },
    {
     "data": {
      "image/png": "[encoded data removed]",
      "text/plain": [
       "<Figure size 720x360 with 1 Axes>"
      ]
     },
     "metadata": {
      "needs_background": "light"
     },
     "output_type": "display_data"
    }
   ],
   "source": [
    "plt.figure(figsize = (10,5))\n",
    "\n",
    "sns.countplot(x = 'Coupon_Y/N', data = data)"
   ]
  },
  {
   "cell_type": "code",
   "execution_count": 59,
   "id": "140f4286",
   "metadata": {
    "scrolled": true
   },
   "outputs": [
    {
     "data": {
      "text/plain": [
       "<AxesSubplot:xlabel='Coupon_Y/N', ylabel='count'>"
      ]
     },
     "execution_count": 59,
     "metadata": {},
     "output_type": "execute_result"
    },
    {
     "data": {
      "image/png": "[encoded data removed]",
      "text/plain": [
       "<Figure size 720x360 with 1 Axes>"
      ]
     },
     "metadata": {
      "needs_background": "light"
     },
     "output_type": "display_data"
    }
   ],
   "source": [
    "#narrowing down to the purchased orders\n",
    "purchased_order = data[data['sold'] == 1]\n",
    "\n",
    "plt.figure(figsize = (10,5))\n",
    "sns.countplot(x = 'Coupon_Y/N', data = purchased_order)"
   ]
  },
  {
   "cell_type": "markdown",
   "id": "6d3a6fa6",
   "metadata": {},
   "source": [
    "## ⑥ Day diferences between 'Adding to the cart' and 'Purchasing'\n",
    "### - The average gap between the two dates is around 4 days and the maximum is 118 days\n",
    "### - The mode is 0 day which takes about 53% share among whole purchased orders\n",
    "### - Rerferring to that '6 days' lies on 75 percentile, it seems that most people tend to purchase within short days after they add products to the cart / or people put products into the cart right before they purchase (53%) or with quite high level of purchase desire."
   ]
  },
  {
   "cell_type": "code",
   "execution_count": 60,
   "id": "1e5b1989",
   "metadata": {
    "scrolled": true
   },
   "outputs": [
    {
     "data": {
      "text/plain": [
       "Text(0.5, 1.0, 'Day differences between the purchase_date and carried_in cart_date')"
      ]
     },
     "execution_count": 60,
     "metadata": {},
     "output_type": "execute_result"
    },
    {
     "data": {
      "image/png": "[encoded data removed]",
      "text/plain": [
       "<Figure size 1440x360 with 1 Axes>"
      ]
     },
     "metadata": {
      "needs_background": "light"
     },
     "output_type": "display_data"
    }
   ],
   "source": [
    "# in order to visualize by 'time_diff' as x-axis\n",
    "plt.figure(figsize = (20, 5))\n",
    "day_diff_graph = data[data['day_diff'] != 'not purchase']\n",
    "sns.countplot(x = 'day_diff', data = day_diff_graph)\n",
    "\n",
    "plt.ylabel('Day differences')\n",
    "plt.title('Day differences between the purchase_date and carried_in cart_date')"
   ]
  },
  {
   "cell_type": "code",
   "execution_count": 61,
   "id": "42f185bc",
   "metadata": {},
   "outputs": [
    {
     "data": {
      "text/plain": [
       "0.0"
      ]
     },
     "execution_count": 61,
     "metadata": {},
     "output_type": "execute_result"
    }
   ],
   "source": [
    "day_diff_graph[day_diff_graph['day_diff'] == 0]['day_diff'].count() / day_diff_graph['day_diff'].count()"
   ]
  },
  {
   "cell_type": "code",
   "execution_count": 62,
   "id": "82623bc6",
   "metadata": {
    "scrolled": true
   },
   "outputs": [
    {
     "data": {
      "text/plain": [
       "count                4108\n",
       "unique                 51\n",
       "top       0 days 00:00:00\n",
       "freq                 2188\n",
       "Name: day_diff, dtype: object"
      ]
     },
     "execution_count": 62,
     "metadata": {},
     "output_type": "execute_result"
    }
   ],
   "source": [
    "day_diff_graph['day_diff'].describe()"
   ]
  },
  {
   "cell_type": "code",
   "execution_count": 63,
   "id": "84e86b67",
   "metadata": {
    "scrolled": true
   },
   "outputs": [
    {
     "data": {
      "text/plain": [
       "0   0 days\n",
       "dtype: timedelta64[ns]"
      ]
     },
     "execution_count": 63,
     "metadata": {},
     "output_type": "execute_result"
    }
   ],
   "source": [
    "day_diff_graph['day_diff'].mode()"
   ]
  },
  {
   "cell_type": "markdown",
   "id": "d8f4b84d",
   "metadata": {},
   "source": [
    "# Setting up the Data\n",
    "## :Get ready to build the \"Random Forest Classification Model\""
   ]
  },
  {
   "cell_type": "markdown",
   "id": "6e2c678e",
   "metadata": {},
   "source": [
    "## Categorical Features\n",
    "#### Streamline the datasets by only leaving the relevant factors for conversion prediction"
   ]
  },
  {
   "cell_type": "code",
   "execution_count": 64,
   "id": "3e173e9b",
   "metadata": {
    "scrolled": false
   },
   "outputs": [
    {
     "name": "stdout",
     "output_type": "stream",
     "text": [
      "<class 'pandas.core.frame.DataFrame'>\n",
      "RangeIndex: 75770 entries, 0 to 75769\n",
      "Data columns (total 20 columns):\n",
      " #   Column                  Non-Null Count  Dtype         \n",
      "---  ------                  --------------  -----         \n",
      " 0   Shopping_cart_no        75770 non-null  int64         \n",
      " 1   Membership_no           75768 non-null  float64       \n",
      " 2   Cart_date               75770 non-null  datetime64[ns]\n",
      " 3   Brand_no                75770 non-null  object        \n",
      " 4   Product_sku_no          75770 non-null  object        \n",
      " 5   Product_no              75770 non-null  object        \n",
      " 6   Purchase_date           75770 non-null  object        \n",
      " 7   Order_no                75770 non-null  object        \n",
      " 8   Cart_amount             75770 non-null  int64         \n",
      " 9   Purchase_amount         75770 non-null  object        \n",
      " 10  Order_payment_amount    75770 non-null  object        \n",
      " 11  Final_payment_amount    75770 non-null  object        \n",
      " 12  Funnel                  75770 non-null  object        \n",
      " 13  Item                    75770 non-null  object        \n",
      " 14  Full_Price (10k / KRW)  75770 non-null  int64         \n",
      " 15  Discount_percent        75770 non-null  float64       \n",
      " 16  Discounted_Price        75770 non-null  int64         \n",
      " 17  Coupon_Y/N              75770 non-null  object        \n",
      " 18  day_diff                75770 non-null  object        \n",
      " 19  sold                    75770 non-null  int64         \n",
      "dtypes: datetime64[ns](1), float64(2), int64(5), object(12)\n",
      "memory usage: 11.6+ MB\n"
     ]
    }
   ],
   "source": [
    "data.info()"
   ]
  },
  {
   "cell_type": "code",
   "execution_count": 65,
   "id": "de45e6c4",
   "metadata": {},
   "outputs": [],
   "source": [
    "data_ml = data[['Funnel','Item', 'Brand_no', 'Full_Price (10k / KRW)','Discount_percent','Discounted_Price','sold']]"
   ]
  },
  {
   "cell_type": "code",
   "execution_count": 66,
   "id": "d3d6aaf3",
   "metadata": {
    "scrolled": true
   },
   "outputs": [
    {
     "data": {
      "text/html": [
       "<div>\n",
       "<style scoped>\n",
       "    .dataframe tbody tr th:only-of-type {\n",
       "        vertical-align: middle;\n",
       "    }\n",
       "\n",
       "    .dataframe tbody tr th {\n",
       "        vertical-align: top;\n",
       "    }\n",
       "\n",
       "    .dataframe thead th {\n",
       "        text-align: right;\n",
       "    }\n",
       "</style>\n",
       "<table border=\"1\" class=\"dataframe\">\n",
       "  <thead>\n",
       "    <tr style=\"text-align: right;\">\n",
       "      <th></th>\n",
       "      <th>Funnel</th>\n",
       "      <th>Item</th>\n",
       "      <th>Brand_no</th>\n",
       "      <th>Full_Price (10k / KRW)</th>\n",
       "      <th>Discount_percent</th>\n",
       "      <th>Discounted_Price</th>\n",
       "      <th>sold</th>\n",
       "    </tr>\n",
       "  </thead>\n",
       "  <tbody>\n",
       "    <tr>\n",
       "      <th>0</th>\n",
       "      <td>category</td>\n",
       "      <td>BAG</td>\n",
       "      <td>brand_1</td>\n",
       "      <td>133</td>\n",
       "      <td>0.30</td>\n",
       "      <td>93</td>\n",
       "      <td>1</td>\n",
       "    </tr>\n",
       "    <tr>\n",
       "      <th>1</th>\n",
       "      <td>failed to track</td>\n",
       "      <td>BAG</td>\n",
       "      <td>brand_1</td>\n",
       "      <td>133</td>\n",
       "      <td>0.36</td>\n",
       "      <td>85</td>\n",
       "      <td>1</td>\n",
       "    </tr>\n",
       "    <tr>\n",
       "      <th>2</th>\n",
       "      <td>event</td>\n",
       "      <td>BAG</td>\n",
       "      <td>brand_1</td>\n",
       "      <td>137</td>\n",
       "      <td>0.46</td>\n",
       "      <td>74</td>\n",
       "      <td>1</td>\n",
       "    </tr>\n",
       "    <tr>\n",
       "      <th>3</th>\n",
       "      <td>failed to track</td>\n",
       "      <td>BAG</td>\n",
       "      <td>brand_1</td>\n",
       "      <td>133</td>\n",
       "      <td>0.53</td>\n",
       "      <td>63</td>\n",
       "      <td>1</td>\n",
       "    </tr>\n",
       "    <tr>\n",
       "      <th>4</th>\n",
       "      <td>failed to track</td>\n",
       "      <td>BAG</td>\n",
       "      <td>brand_1</td>\n",
       "      <td>133</td>\n",
       "      <td>0.95</td>\n",
       "      <td>85</td>\n",
       "      <td>1</td>\n",
       "    </tr>\n",
       "    <tr>\n",
       "      <th>...</th>\n",
       "      <td>...</td>\n",
       "      <td>...</td>\n",
       "      <td>...</td>\n",
       "      <td>...</td>\n",
       "      <td>...</td>\n",
       "      <td>...</td>\n",
       "      <td>...</td>\n",
       "    </tr>\n",
       "    <tr>\n",
       "      <th>75765</th>\n",
       "      <td>failed to track</td>\n",
       "      <td>BAG</td>\n",
       "      <td>brand_1</td>\n",
       "      <td>133</td>\n",
       "      <td>0.30</td>\n",
       "      <td>93</td>\n",
       "      <td>0</td>\n",
       "    </tr>\n",
       "    <tr>\n",
       "      <th>75766</th>\n",
       "      <td>category</td>\n",
       "      <td>TOP</td>\n",
       "      <td>brand_3</td>\n",
       "      <td>209</td>\n",
       "      <td>0.40</td>\n",
       "      <td>125</td>\n",
       "      <td>0</td>\n",
       "    </tr>\n",
       "    <tr>\n",
       "      <th>75767</th>\n",
       "      <td>category</td>\n",
       "      <td>BAG</td>\n",
       "      <td>brand_1</td>\n",
       "      <td>133</td>\n",
       "      <td>0.30</td>\n",
       "      <td>93</td>\n",
       "      <td>0</td>\n",
       "    </tr>\n",
       "    <tr>\n",
       "      <th>75768</th>\n",
       "      <td>site_main</td>\n",
       "      <td>TOP</td>\n",
       "      <td>brand_2</td>\n",
       "      <td>95</td>\n",
       "      <td>0.40</td>\n",
       "      <td>57</td>\n",
       "      <td>0</td>\n",
       "    </tr>\n",
       "    <tr>\n",
       "      <th>75769</th>\n",
       "      <td>failed to track</td>\n",
       "      <td>TOP</td>\n",
       "      <td>brand_2</td>\n",
       "      <td>105</td>\n",
       "      <td>0.30</td>\n",
       "      <td>74</td>\n",
       "      <td>0</td>\n",
       "    </tr>\n",
       "  </tbody>\n",
       "</table>\n",
       "<p>75770 rows × 7 columns</p>\n",
       "</div>"
      ],
      "text/plain": [
       "                Funnel Item Brand_no  Full_Price (10k / KRW)  \\\n",
       "0             category  BAG  brand_1                     133   \n",
       "1      failed to track  BAG  brand_1                     133   \n",
       "2                event  BAG  brand_1                     137   \n",
       "3      failed to track  BAG  brand_1                     133   \n",
       "4      failed to track  BAG  brand_1                     133   \n",
       "...                ...  ...      ...                     ...   \n",
       "75765  failed to track  BAG  brand_1                     133   \n",
       "75766         category  TOP  brand_3                     209   \n",
       "75767         category  BAG  brand_1                     133   \n",
       "75768        site_main  TOP  brand_2                      95   \n",
       "75769  failed to track  TOP  brand_2                     105   \n",
       "\n",
       "       Discount_percent  Discounted_Price  sold  \n",
       "0                  0.30                93     1  \n",
       "1                  0.36                85     1  \n",
       "2                  0.46                74     1  \n",
       "3                  0.53                63     1  \n",
       "4                  0.95                85     1  \n",
       "...                 ...               ...   ...  \n",
       "75765              0.30                93     0  \n",
       "75766              0.40               125     0  \n",
       "75767              0.30                93     0  \n",
       "75768              0.40                57     0  \n",
       "75769              0.30                74     0  \n",
       "\n",
       "[75770 rows x 7 columns]"
      ]
     },
     "execution_count": 66,
     "metadata": {},
     "output_type": "execute_result"
    }
   ],
   "source": [
    "data_ml"
   ]
  },
  {
   "cell_type": "markdown",
   "id": "c32f0b61",
   "metadata": {},
   "source": [
    "#### Convert categorical variables to dummie variables."
   ]
  },
  {
   "cell_type": "code",
   "execution_count": 67,
   "id": "be4f01bb",
   "metadata": {},
   "outputs": [],
   "source": [
    "data_ml_fn = pd.get_dummies(data_ml, columns=['Funnel', 'Item', 'Brand_no'], drop_first=True)"
   ]
  },
  {
   "cell_type": "code",
   "execution_count": 68,
   "id": "912f3956",
   "metadata": {},
   "outputs": [
    {
     "data": {
      "text/html": [
       "<div>\n",
       "<style scoped>\n",
       "    .dataframe tbody tr th:only-of-type {\n",
       "        vertical-align: middle;\n",
       "    }\n",
       "\n",
       "    .dataframe tbody tr th {\n",
       "        vertical-align: top;\n",
       "    }\n",
       "\n",
       "    .dataframe thead th {\n",
       "        text-align: right;\n",
       "    }\n",
       "</style>\n",
       "<table border=\"1\" class=\"dataframe\">\n",
       "  <thead>\n",
       "    <tr style=\"text-align: right;\">\n",
       "      <th></th>\n",
       "      <th>Full_Price (10k / KRW)</th>\n",
       "      <th>Discount_percent</th>\n",
       "      <th>Discounted_Price</th>\n",
       "      <th>sold</th>\n",
       "      <th>Funnel_category</th>\n",
       "      <th>Funnel_etc</th>\n",
       "      <th>Funnel_event</th>\n",
       "      <th>Funnel_failed to track</th>\n",
       "      <th>Funnel_live_shopping</th>\n",
       "      <th>Funnel_site_main</th>\n",
       "      <th>Item_BAG</th>\n",
       "      <th>Item_BOTTOM</th>\n",
       "      <th>Item_DRESS</th>\n",
       "      <th>Item_JEW</th>\n",
       "      <th>Item_OUTER</th>\n",
       "      <th>Item_SHOES</th>\n",
       "      <th>Item_SLG</th>\n",
       "      <th>Item_TOP</th>\n",
       "      <th>Brand_no_brand_2</th>\n",
       "      <th>Brand_no_brand_3</th>\n",
       "    </tr>\n",
       "  </thead>\n",
       "  <tbody>\n",
       "    <tr>\n",
       "      <th>0</th>\n",
       "      <td>133</td>\n",
       "      <td>0.30</td>\n",
       "      <td>93</td>\n",
       "      <td>1</td>\n",
       "      <td>1</td>\n",
       "      <td>0</td>\n",
       "      <td>0</td>\n",
       "      <td>0</td>\n",
       "      <td>0</td>\n",
       "      <td>0</td>\n",
       "      <td>1</td>\n",
       "      <td>0</td>\n",
       "      <td>0</td>\n",
       "      <td>0</td>\n",
       "      <td>0</td>\n",
       "      <td>0</td>\n",
       "      <td>0</td>\n",
       "      <td>0</td>\n",
       "      <td>0</td>\n",
       "      <td>0</td>\n",
       "    </tr>\n",
       "    <tr>\n",
       "      <th>1</th>\n",
       "      <td>133</td>\n",
       "      <td>0.36</td>\n",
       "      <td>85</td>\n",
       "      <td>1</td>\n",
       "      <td>0</td>\n",
       "      <td>0</td>\n",
       "      <td>0</td>\n",
       "      <td>1</td>\n",
       "      <td>0</td>\n",
       "      <td>0</td>\n",
       "      <td>1</td>\n",
       "      <td>0</td>\n",
       "      <td>0</td>\n",
       "      <td>0</td>\n",
       "      <td>0</td>\n",
       "      <td>0</td>\n",
       "      <td>0</td>\n",
       "      <td>0</td>\n",
       "      <td>0</td>\n",
       "      <td>0</td>\n",
       "    </tr>\n",
       "    <tr>\n",
       "      <th>2</th>\n",
       "      <td>137</td>\n",
       "      <td>0.46</td>\n",
       "      <td>74</td>\n",
       "      <td>1</td>\n",
       "      <td>0</td>\n",
       "      <td>0</td>\n",
       "      <td>1</td>\n",
       "      <td>0</td>\n",
       "      <td>0</td>\n",
       "      <td>0</td>\n",
       "      <td>1</td>\n",
       "      <td>0</td>\n",
       "      <td>0</td>\n",
       "      <td>0</td>\n",
       "      <td>0</td>\n",
       "      <td>0</td>\n",
       "      <td>0</td>\n",
       "      <td>0</td>\n",
       "      <td>0</td>\n",
       "      <td>0</td>\n",
       "    </tr>\n",
       "    <tr>\n",
       "      <th>3</th>\n",
       "      <td>133</td>\n",
       "      <td>0.53</td>\n",
       "      <td>63</td>\n",
       "      <td>1</td>\n",
       "      <td>0</td>\n",
       "      <td>0</td>\n",
       "      <td>0</td>\n",
       "      <td>1</td>\n",
       "      <td>0</td>\n",
       "      <td>0</td>\n",
       "      <td>1</td>\n",
       "      <td>0</td>\n",
       "      <td>0</td>\n",
       "      <td>0</td>\n",
       "      <td>0</td>\n",
       "      <td>0</td>\n",
       "      <td>0</td>\n",
       "      <td>0</td>\n",
       "      <td>0</td>\n",
       "      <td>0</td>\n",
       "    </tr>\n",
       "    <tr>\n",
       "      <th>4</th>\n",
       "      <td>133</td>\n",
       "      <td>0.95</td>\n",
       "      <td>85</td>\n",
       "      <td>1</td>\n",
       "      <td>0</td>\n",
       "      <td>0</td>\n",
       "      <td>0</td>\n",
       "      <td>1</td>\n",
       "      <td>0</td>\n",
       "      <td>0</td>\n",
       "      <td>1</td>\n",
       "      <td>0</td>\n",
       "      <td>0</td>\n",
       "      <td>0</td>\n",
       "      <td>0</td>\n",
       "      <td>0</td>\n",
       "      <td>0</td>\n",
       "      <td>0</td>\n",
       "      <td>0</td>\n",
       "      <td>0</td>\n",
       "    </tr>\n",
       "    <tr>\n",
       "      <th>...</th>\n",
       "      <td>...</td>\n",
       "      <td>...</td>\n",
       "      <td>...</td>\n",
       "      <td>...</td>\n",
       "      <td>...</td>\n",
       "      <td>...</td>\n",
       "      <td>...</td>\n",
       "      <td>...</td>\n",
       "      <td>...</td>\n",
       "      <td>...</td>\n",
       "      <td>...</td>\n",
       "      <td>...</td>\n",
       "      <td>...</td>\n",
       "      <td>...</td>\n",
       "      <td>...</td>\n",
       "      <td>...</td>\n",
       "      <td>...</td>\n",
       "      <td>...</td>\n",
       "      <td>...</td>\n",
       "      <td>...</td>\n",
       "    </tr>\n",
       "    <tr>\n",
       "      <th>75765</th>\n",
       "      <td>133</td>\n",
       "      <td>0.30</td>\n",
       "      <td>93</td>\n",
       "      <td>0</td>\n",
       "      <td>0</td>\n",
       "      <td>0</td>\n",
       "      <td>0</td>\n",
       "      <td>1</td>\n",
       "      <td>0</td>\n",
       "      <td>0</td>\n",
       "      <td>1</td>\n",
       "      <td>0</td>\n",
       "      <td>0</td>\n",
       "      <td>0</td>\n",
       "      <td>0</td>\n",
       "      <td>0</td>\n",
       "      <td>0</td>\n",
       "      <td>0</td>\n",
       "      <td>0</td>\n",
       "      <td>0</td>\n",
       "    </tr>\n",
       "    <tr>\n",
       "      <th>75766</th>\n",
       "      <td>209</td>\n",
       "      <td>0.40</td>\n",
       "      <td>125</td>\n",
       "      <td>0</td>\n",
       "      <td>1</td>\n",
       "      <td>0</td>\n",
       "      <td>0</td>\n",
       "      <td>0</td>\n",
       "      <td>0</td>\n",
       "      <td>0</td>\n",
       "      <td>0</td>\n",
       "      <td>0</td>\n",
       "      <td>0</td>\n",
       "      <td>0</td>\n",
       "      <td>0</td>\n",
       "      <td>0</td>\n",
       "      <td>0</td>\n",
       "      <td>1</td>\n",
       "      <td>0</td>\n",
       "      <td>1</td>\n",
       "    </tr>\n",
       "    <tr>\n",
       "      <th>75767</th>\n",
       "      <td>133</td>\n",
       "      <td>0.30</td>\n",
       "      <td>93</td>\n",
       "      <td>0</td>\n",
       "      <td>1</td>\n",
       "      <td>0</td>\n",
       "      <td>0</td>\n",
       "      <td>0</td>\n",
       "      <td>0</td>\n",
       "      <td>0</td>\n",
       "      <td>1</td>\n",
       "      <td>0</td>\n",
       "      <td>0</td>\n",
       "      <td>0</td>\n",
       "      <td>0</td>\n",
       "      <td>0</td>\n",
       "      <td>0</td>\n",
       "      <td>0</td>\n",
       "      <td>0</td>\n",
       "      <td>0</td>\n",
       "    </tr>\n",
       "    <tr>\n",
       "      <th>75768</th>\n",
       "      <td>95</td>\n",
       "      <td>0.40</td>\n",
       "      <td>57</td>\n",
       "      <td>0</td>\n",
       "      <td>0</td>\n",
       "      <td>0</td>\n",
       "      <td>0</td>\n",
       "      <td>0</td>\n",
       "      <td>0</td>\n",
       "      <td>1</td>\n",
       "      <td>0</td>\n",
       "      <td>0</td>\n",
       "      <td>0</td>\n",
       "      <td>0</td>\n",
       "      <td>0</td>\n",
       "      <td>0</td>\n",
       "      <td>0</td>\n",
       "      <td>1</td>\n",
       "      <td>1</td>\n",
       "      <td>0</td>\n",
       "    </tr>\n",
       "    <tr>\n",
       "      <th>75769</th>\n",
       "      <td>105</td>\n",
       "      <td>0.30</td>\n",
       "      <td>74</td>\n",
       "      <td>0</td>\n",
       "      <td>0</td>\n",
       "      <td>0</td>\n",
       "      <td>0</td>\n",
       "      <td>1</td>\n",
       "      <td>0</td>\n",
       "      <td>0</td>\n",
       "      <td>0</td>\n",
       "      <td>0</td>\n",
       "      <td>0</td>\n",
       "      <td>0</td>\n",
       "      <td>0</td>\n",
       "      <td>0</td>\n",
       "      <td>0</td>\n",
       "      <td>1</td>\n",
       "      <td>1</td>\n",
       "      <td>0</td>\n",
       "    </tr>\n",
       "  </tbody>\n",
       "</table>\n",
       "<p>75770 rows × 20 columns</p>\n",
       "</div>"
      ],
      "text/plain": [
       "       Full_Price (10k / KRW)  Discount_percent  Discounted_Price  sold  \\\n",
       "0                         133              0.30                93     1   \n",
       "1                         133              0.36                85     1   \n",
       "2                         137              0.46                74     1   \n",
       "3                         133              0.53                63     1   \n",
       "4                         133              0.95                85     1   \n",
       "...                       ...               ...               ...   ...   \n",
       "75765                     133              0.30                93     0   \n",
       "75766                     209              0.40               125     0   \n",
       "75767                     133              0.30                93     0   \n",
       "75768                      95              0.40                57     0   \n",
       "75769                     105              0.30                74     0   \n",
       "\n",
       "       Funnel_category  Funnel_etc  Funnel_event  Funnel_failed to track  \\\n",
       "0                    1           0             0                       0   \n",
       "1                    0           0             0                       1   \n",
       "2                    0           0             1                       0   \n",
       "3                    0           0             0                       1   \n",
       "4                    0           0             0                       1   \n",
       "...                ...         ...           ...                     ...   \n",
       "75765                0           0             0                       1   \n",
       "75766                1           0             0                       0   \n",
       "75767                1           0             0                       0   \n",
       "75768                0           0             0                       0   \n",
       "75769                0           0             0                       1   \n",
       "\n",
       "       Funnel_live_shopping  Funnel_site_main  Item_BAG  Item_BOTTOM  \\\n",
       "0                         0                 0         1            0   \n",
       "1                         0                 0         1            0   \n",
       "2                         0                 0         1            0   \n",
       "3                         0                 0         1            0   \n",
       "4                         0                 0         1            0   \n",
       "...                     ...               ...       ...          ...   \n",
       "75765                     0                 0         1            0   \n",
       "75766                     0                 0         0            0   \n",
       "75767                     0                 0         1            0   \n",
       "75768                     0                 1         0            0   \n",
       "75769                     0                 0         0            0   \n",
       "\n",
       "       Item_DRESS  Item_JEW  Item_OUTER  Item_SHOES  Item_SLG  Item_TOP  \\\n",
       "0               0         0           0           0         0         0   \n",
       "1               0         0           0           0         0         0   \n",
       "2               0         0           0           0         0         0   \n",
       "3               0         0           0           0         0         0   \n",
       "4               0         0           0           0         0         0   \n",
       "...           ...       ...         ...         ...       ...       ...   \n",
       "75765           0         0           0           0         0         0   \n",
       "75766           0         0           0           0         0         1   \n",
       "75767           0         0           0           0         0         0   \n",
       "75768           0         0           0           0         0         1   \n",
       "75769           0         0           0           0         0         1   \n",
       "\n",
       "       Brand_no_brand_2  Brand_no_brand_3  \n",
       "0                     0                 0  \n",
       "1                     0                 0  \n",
       "2                     0                 0  \n",
       "3                     0                 0  \n",
       "4                     0                 0  \n",
       "...                 ...               ...  \n",
       "75765                 0                 0  \n",
       "75766                 0                 1  \n",
       "75767                 0                 0  \n",
       "75768                 1                 0  \n",
       "75769                 1                 0  \n",
       "\n",
       "[75770 rows x 20 columns]"
      ]
     },
     "execution_count": 68,
     "metadata": {},
     "output_type": "execute_result"
    }
   ],
   "source": [
    "data_ml_fn"
   ]
  },
  {
   "cell_type": "markdown",
   "id": "623865e1",
   "metadata": {},
   "source": [
    "### Train Test Split"
   ]
  },
  {
   "cell_type": "code",
   "execution_count": 69,
   "id": "54e47c79",
   "metadata": {},
   "outputs": [],
   "source": [
    "from sklearn.model_selection import train_test_split"
   ]
  },
  {
   "cell_type": "code",
   "execution_count": 70,
   "id": "e908eb49",
   "metadata": {},
   "outputs": [],
   "source": [
    "X = data_ml_fn.drop('sold',axis=1)\n",
    "y = data_ml_fn['sold']\n",
    "X_train, X_test, y_train, y_test = train_test_split(X, y, test_size=0.30, random_state=101, stratify =y)"
   ]
  },
  {
   "cell_type": "markdown",
   "id": "eeb61a36",
   "metadata": {},
   "source": [
    "# Random Forest Model"
   ]
  },
  {
   "cell_type": "markdown",
   "id": "61f3d6b5",
   "metadata": {},
   "source": [
    "## 1. Standard Random Forest (SRF)\n",
    "### Build the model"
   ]
  },
  {
   "cell_type": "code",
   "execution_count": 71,
   "id": "35dd97bc",
   "metadata": {},
   "outputs": [],
   "source": [
    "from statistics import mean\n",
    "from sklearn.model_selection import cross_validate\n",
    "from sklearn.model_selection import RepeatedStratifiedKFold\n",
    "from sklearn.metrics import plot_confusion_matrix\n",
    "from sklearn.ensemble import RandomForestClassifier"
   ]
  },
  {
   "cell_type": "code",
   "execution_count": 72,
   "id": "2991b999",
   "metadata": {},
   "outputs": [],
   "source": [
    "SRF = RandomForestClassifier(n_estimators=150, random_state=101)"
   ]
  },
  {
   "cell_type": "markdown",
   "id": "033aad66",
   "metadata": {},
   "source": [
    "### Train the model"
   ]
  },
  {
   "cell_type": "code",
   "execution_count": 73,
   "id": "133f4e9b",
   "metadata": {
    "scrolled": true
   },
   "outputs": [
    {
     "data": {
      "text/plain": [
       "RandomForestClassifier(n_estimators=150, random_state=101)"
      ]
     },
     "execution_count": 73,
     "metadata": {},
     "output_type": "execute_result"
    }
   ],
   "source": [
    "SRF.fit(X_train, y_train)"
   ]
  },
  {
   "cell_type": "markdown",
   "id": "ecf29c4e",
   "metadata": {},
   "source": [
    "### Evaluate SRF model"
   ]
  },
  {
   "cell_type": "code",
   "execution_count": 74,
   "id": "b5cab3e0",
   "metadata": {},
   "outputs": [
    {
     "name": "stdout",
     "output_type": "stream",
     "text": [
      "Mean f1: 0.760\n",
      "Mean recall: 0.620\n",
      "Mean precision: 0.984\n"
     ]
    }
   ],
   "source": [
    "#Create Stratified K-fold cross validation\n",
    "cv = RepeatedStratifiedKFold(n_splits=10, n_repeats=3, random_state=101)\n",
    "scoring = ('f1', 'recall', 'precision')\n",
    "\n",
    "#Evaluate SRF model\n",
    "scores = cross_validate(SRF, X, y, scoring=scoring, cv=cv)\n",
    "\n",
    "#Get average evaluation metrics\n",
    "print('Mean f1: %.3f' % mean(scores['test_f1']))\n",
    "print('Mean recall: %.3f' % mean(scores['test_recall']))\n",
    "print('Mean precision: %.3f' % mean(scores['test_precision']))"
   ]
  },
  {
   "cell_type": "code",
   "execution_count": 75,
   "id": "d01c2064",
   "metadata": {},
   "outputs": [],
   "source": [
    "recall_score_SRF = 0.620\n",
    "precision_score_SRF = 0.984"
   ]
  },
  {
   "cell_type": "markdown",
   "id": "84de64a5",
   "metadata": {},
   "source": [
    "### Prediction and Evaluation"
   ]
  },
  {
   "cell_type": "code",
   "execution_count": 76,
   "id": "3ba06afa",
   "metadata": {},
   "outputs": [],
   "source": [
    "y_pred = SRF.predict(X_test)"
   ]
  },
  {
   "cell_type": "code",
   "execution_count": 77,
   "id": "29dfca67",
   "metadata": {
    "scrolled": false
   },
   "outputs": [
    {
     "data": {
      "image/png": "[encoded data removed]",
      "text/plain": [
       "<Figure size 432x288 with 2 Axes>"
      ]
     },
     "metadata": {
      "needs_background": "light"
     },
     "output_type": "display_data"
    }
   ],
   "source": [
    "#Create confusion matrix\n",
    "fig = plot_confusion_matrix(SRF, X_test, y_test, display_labels=['Will Not Buy', 'Will Buy'], cmap='Greens')\n",
    "plt.title('Standard Random Forest Confusion Matrix')\n",
    "plt.show()"
   ]
  },
  {
   "cell_type": "markdown",
   "id": "01b7bc0f",
   "metadata": {},
   "source": [
    "## As the class imbalance is strong (sold: unsold = 1:19), complementing Random Forest Classifier with stratified sampling techniques seems needed.\n",
    "\n"
   ]
  },
  {
   "cell_type": "markdown",
   "id": "c09528a0",
   "metadata": {},
   "source": [
    "\n",
    "\n",
    "## 2. Balanced Random Forest (BRF)"
   ]
  },
  {
   "cell_type": "markdown",
   "id": "34d80e5d",
   "metadata": {},
   "source": [
    "### Build the model"
   ]
  },
  {
   "cell_type": "code",
   "execution_count": 78,
   "id": "fc097e7b",
   "metadata": {},
   "outputs": [],
   "source": [
    "from imblearn.ensemble import BalancedRandomForestClassifier\n",
    "BRFC = BalancedRandomForestClassifier(n_estimators=150, random_state=103)"
   ]
  },
  {
   "cell_type": "markdown",
   "id": "20e98d1f",
   "metadata": {},
   "source": [
    "### Train the model"
   ]
  },
  {
   "cell_type": "code",
   "execution_count": 79,
   "id": "611bfca6",
   "metadata": {
    "scrolled": false
   },
   "outputs": [
    {
     "data": {
      "text/plain": [
       "BalancedRandomForestClassifier(n_estimators=150, random_state=103)"
      ]
     },
     "execution_count": 79,
     "metadata": {},
     "output_type": "execute_result"
    }
   ],
   "source": [
    "BRFC.fit(X_train, y_train)"
   ]
  },
  {
   "cell_type": "markdown",
   "id": "c84ad1fe",
   "metadata": {},
   "source": [
    "### Evaluate BRFC model"
   ]
  },
  {
   "cell_type": "code",
   "execution_count": 80,
   "id": "0c843de0",
   "metadata": {},
   "outputs": [
    {
     "name": "stdout",
     "output_type": "stream",
     "text": [
      "Mean f1: 0.469\n",
      "Mean recall: 0.770\n",
      "Mean precision: 0.337\n"
     ]
    }
   ],
   "source": [
    "#Create Stratified K-fold cross validation\n",
    "cv = RepeatedStratifiedKFold(n_splits=10, n_repeats=3, random_state=102)\n",
    "scoring = ('f1', 'recall', 'precision')\n",
    "\n",
    "#Evaluate BRFC model\n",
    "scores = cross_validate(BRFC, X, y, scoring=scoring, cv=cv)\n",
    "\n",
    "#Get average evaluation metrics\n",
    "print('Mean f1: %.3f' % mean(scores['test_f1']))\n",
    "print('Mean recall: %.3f' % mean(scores['test_recall']))\n",
    "print('Mean precision: %.3f' % mean(scores['test_precision']))"
   ]
  },
  {
   "cell_type": "code",
   "execution_count": 81,
   "id": "a35998f2",
   "metadata": {},
   "outputs": [],
   "source": [
    "recall_score_BRFC = 0.770\n",
    "precision_score_BRFC = 0.337"
   ]
  },
  {
   "cell_type": "markdown",
   "id": "0f527ada",
   "metadata": {},
   "source": [
    "### Prediction and Evaluation"
   ]
  },
  {
   "cell_type": "code",
   "execution_count": 82,
   "id": "96748313",
   "metadata": {
    "scrolled": true
   },
   "outputs": [],
   "source": [
    "y_pred2 = BRFC.predict(X_test)"
   ]
  },
  {
   "cell_type": "code",
   "execution_count": 83,
   "id": "39f239e4",
   "metadata": {},
   "outputs": [
    {
     "data": {
      "image/png": "[encoded data removed]",
      "text/plain": [
       "<Figure size 432x288 with 2 Axes>"
      ]
     },
     "metadata": {
      "needs_background": "light"
     },
     "output_type": "display_data"
    }
   ],
   "source": [
    "#Create confusion matrix\n",
    "fig = plot_confusion_matrix(BRFC, X_test, y_test, display_labels=['Will Not Buy', 'Will Buy'], cmap='Greens')\n",
    "plt.title('Balanced Random Forest Confusion Matrix')\n",
    "plt.show()"
   ]
  },
  {
   "cell_type": "markdown",
   "id": "8bc412ae",
   "metadata": {},
   "source": [
    "## 3. SMOTE (Synthetic Minority Oversampling Technique) using Standard Random Forest"
   ]
  },
  {
   "cell_type": "markdown",
   "id": "b1346af9",
   "metadata": {},
   "source": [
    "### Build the model"
   ]
  },
  {
   "cell_type": "code",
   "execution_count": 84,
   "id": "11c8bc25",
   "metadata": {},
   "outputs": [],
   "source": [
    "from imblearn.over_sampling import SMOTE\n",
    "\n",
    "#Use SMOTE to oversample the minority class\n",
    "oversample = SMOTE()\n",
    "over_X, over_y = oversample.fit_resample(X, y)\n",
    "over_X_train, over_X_test, over_y_train, over_y_test = train_test_split(over_X, over_y, test_size=0.3, stratify=over_y)\n",
    "\n",
    "#Build SMOTE SRF model\n",
    "SMOTE_SRF = RandomForestClassifier(n_estimators=150, random_state=101)"
   ]
  },
  {
   "cell_type": "markdown",
   "id": "b5e7650c",
   "metadata": {},
   "source": [
    "### Train the model"
   ]
  },
  {
   "cell_type": "code",
   "execution_count": 85,
   "id": "057e994d",
   "metadata": {
    "scrolled": true
   },
   "outputs": [
    {
     "data": {
      "text/plain": [
       "RandomForestClassifier(n_estimators=150, random_state=101)"
      ]
     },
     "execution_count": 85,
     "metadata": {},
     "output_type": "execute_result"
    }
   ],
   "source": [
    "SMOTE_SRF.fit(over_X_train, over_y_train)"
   ]
  },
  {
   "cell_type": "markdown",
   "id": "c91d75c2",
   "metadata": {},
   "source": [
    "### Evaluate SMOTE model "
   ]
  },
  {
   "cell_type": "code",
   "execution_count": 86,
   "id": "56a216b5",
   "metadata": {
    "scrolled": true
   },
   "outputs": [
    {
     "name": "stdout",
     "output_type": "stream",
     "text": [
      "Mean f1: 0.936\n",
      "Mean recall: 0.903\n",
      "Mean precision: 0.971\n"
     ]
    }
   ],
   "source": [
    "#Create Stratified K-fold cross validation\n",
    "cv = RepeatedStratifiedKFold(n_splits=10, n_repeats=3, random_state=102)\n",
    "scoring = ('f1', 'recall', 'precision')\n",
    "\n",
    "#Evaluate SMOTE SRF model\n",
    "scores = cross_validate(SMOTE_SRF, over_X, over_y, scoring=scoring, cv=cv)\n",
    "\n",
    "#Get average evaluation metrics\n",
    "print('Mean f1: %.3f' % mean(scores['test_f1']))\n",
    "print('Mean recall: %.3f' % mean(scores['test_recall']))\n",
    "print('Mean precision: %.3f' % mean(scores['test_precision']))"
   ]
  },
  {
   "cell_type": "code",
   "execution_count": 88,
   "id": "38bb802c",
   "metadata": {},
   "outputs": [],
   "source": [
    "recall_score_SMOTE = 0.903\n",
    "precision_score_SMOTE = 0.971"
   ]
  },
  {
   "cell_type": "markdown",
   "id": "975d35cc",
   "metadata": {},
   "source": [
    "### Prediction and Evaluation"
   ]
  },
  {
   "cell_type": "code",
   "execution_count": 89,
   "id": "5ae4d02a",
   "metadata": {},
   "outputs": [],
   "source": [
    "y_pred3 = SMOTE_SRF.predict(X_test)"
   ]
  },
  {
   "cell_type": "code",
   "execution_count": 90,
   "id": "c9ecb39c",
   "metadata": {
    "scrolled": false
   },
   "outputs": [
    {
     "data": {
      "image/png": "[encoded data removed]",
      "text/plain": [
       "<Figure size 432x288 with 2 Axes>"
      ]
     },
     "metadata": {
      "needs_background": "light"
     },
     "output_type": "display_data"
    }
   ],
   "source": [
    "#Create confusion matrix\n",
    "fig = plot_confusion_matrix(SMOTE_SRF, X_test, y_test, display_labels=['Will Not Buy', 'Will Buy'], cmap='Greens')\n",
    "plt.title('SMOTE + Standard Random Forest Confusion Matrix')\n",
    "plt.show()"
   ]
  },
  {
   "cell_type": "markdown",
   "id": "fd2e6b71",
   "metadata": {},
   "source": [
    "## 4. Precision-recall curve\n",
    "### Make a direct comparison between above three models that use the same imbalanced data "
   ]
  },
  {
   "cell_type": "code",
   "execution_count": 91,
   "id": "1c517e58",
   "metadata": {},
   "outputs": [
    {
     "data": {
      "text/plain": [
       "Text(0.5, 1.0, 'Precision-Recall curve')"
      ]
     },
     "execution_count": 91,
     "metadata": {},
     "output_type": "execute_result"
    },
    {
     "data": {
      "image/png": "[encoded data removed]",
      "text/plain": [
       "<Figure size 720x360 with 1 Axes>"
      ]
     },
     "metadata": {
      "needs_background": "light"
     },
     "output_type": "display_data"
    }
   ],
   "source": [
    "from sklearn.metrics import plot_precision_recall_curve\n",
    "from sklearn.metrics import precision_recall_curve\n",
    "\n",
    "plt.figure(figsize = (10,5))\n",
    "plot_precision_recall_curve(SRF, X_test, y_test, ax = plt.gca(), name = 'SRF')\n",
    "plot_precision_recall_curve(BRFC, X_test, y_test, ax = plt.gca(), name = 'BRFC')\n",
    "plot_precision_recall_curve(SMOTE_SRF, X_test, y_test, ax = plt.gca(), name = 'SMOTE_SRF');\n",
    "\n",
    "plt.title('Precision-Recall curve')"
   ]
  },
  {
   "cell_type": "markdown",
   "id": "2dbf519e",
   "metadata": {},
   "source": [
    "## The Precision-recall curves indicate that SMOTE using SRF has the best performance overally and SRF is the second best, showing a lot of overlap with SMOTE_SRF. "
   ]
  },
  {
   "cell_type": "markdown",
   "id": "80b0e78f",
   "metadata": {},
   "source": [
    "# Lastly, check the impacts of each factor\n",
    "### - The promoiton and the price turned out to be the most influencing factors when it comes to the conversion. Specifically, the 'Discount percent' impacts with almost half of the power, and then the actual prices (discounted, full) come next. Aside from that, brand_3 and the bag items had a comparatively higher impact to the conversion than the rest of other factors."
   ]
  },
  {
   "cell_type": "code",
   "execution_count": 92,
   "id": "20acf3c3",
   "metadata": {
    "scrolled": true
   },
   "outputs": [
    {
     "data": {
      "text/plain": [
       "array([1.67082150e-01, 4.67342337e-01, 2.69941974e-01, 5.59195159e-03,\n",
       "       1.17562552e-03, 5.14797540e-03, 6.10284552e-03, 3.92738560e-04,\n",
       "       1.68197907e-03, 1.11722665e-02, 5.23010848e-03, 4.05807005e-03,\n",
       "       2.77772443e-03, 1.74933774e-03, 4.11166980e-03, 7.78489814e-03,\n",
       "       5.47270620e-03, 1.39543691e-02, 1.92292733e-02])"
      ]
     },
     "execution_count": 92,
     "metadata": {},
     "output_type": "execute_result"
    }
   ],
   "source": [
    "SRF.feature_importances_"
   ]
  },
  {
   "cell_type": "code",
   "execution_count": 93,
   "id": "19f6d190",
   "metadata": {},
   "outputs": [
    {
     "data": {
      "text/plain": [
       "Index(['Full_Price (10k / KRW)', 'Discount_percent', 'Discounted_Price',\n",
       "       'Funnel_category', 'Funnel_etc', 'Funnel_event',\n",
       "       'Funnel_failed to track', 'Funnel_live_shopping', 'Funnel_site_main',\n",
       "       'Item_BAG', 'Item_BOTTOM', 'Item_DRESS', 'Item_JEW', 'Item_OUTER',\n",
       "       'Item_SHOES', 'Item_SLG', 'Item_TOP', 'Brand_no_brand_2',\n",
       "       'Brand_no_brand_3'],\n",
       "      dtype='object')"
      ]
     },
     "execution_count": 93,
     "metadata": {},
     "output_type": "execute_result"
    }
   ],
   "source": [
    "X_train.columns"
   ]
  },
  {
   "cell_type": "code",
   "execution_count": 94,
   "id": "66a73579",
   "metadata": {
    "scrolled": true
   },
   "outputs": [
    {
     "data": {
      "text/plain": [
       "<AxesSubplot:>"
      ]
     },
     "execution_count": 94,
     "metadata": {},
     "output_type": "execute_result"
    },
    {
     "data": {
      "image/png": "[encoded data removed]",
      "text/plain": [
       "<Figure size 2520x720 with 1 Axes>"
      ]
     },
     "metadata": {
      "needs_background": "light"
     },
     "output_type": "display_data"
    }
   ],
   "source": [
    "plt.figure(figsize=(35,10))\n",
    "plt.gcf().autofmt_xdate()\n",
    "\n",
    "sns.barplot(x = X_train.columns, y = SRF.feature_importances_)"
   ]
  },
  {
   "cell_type": "markdown",
   "id": "883f4098",
   "metadata": {},
   "source": [
    "## Finding : \n",
    "### - Under this data settings, it seems that the discount promotion is effective in driving a purchase conversion. The average discount percent that moved customers to purchase was about 45%, and in the actual price wise was around 550k(KRW). \n",
    "\n",
    "### - Among the Random Forest models, SMOTE using Standard Random Forest turned out to show the best performance in deciding whether the customers would purchase their products in the shopping carts or not, showing the overall highest Precision and recall scores."
   ]
  }
 ],
 "metadata": {
  "kernelspec": {
   "display_name": "Python 3",
   "language": "python",
   "name": "python3"
  },
  "language_info": {
   "codemirror_mode": {
    "name": "ipython",
    "version": 3
   },
   "file_extension": ".py",
   "mimetype": "text/x-python",
   "name": "python",
   "nbconvert_exporter": "python",
   "pygments_lexer": "ipython3",
   "version": "3.8.10"
  }
 },
 "nbformat": 4,
 "nbformat_minor": 5
}
